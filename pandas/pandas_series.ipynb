{
  "nbformat": 4,
  "nbformat_minor": 0,
  "metadata": {
    "colab": {
      "provenance": []
    },
    "kernelspec": {
      "name": "python3",
      "display_name": "Python 3"
    },
    "language_info": {
      "name": "python"
    }
  },
  "cells": [
    {
      "cell_type": "code",
      "execution_count": 2,
      "metadata": {
        "id": "vGkAJV5MOL3v"
      },
      "outputs": [],
      "source": [
        "import numpy as np\n",
        "import pandas as pd"
      ]
    },
    {
      "cell_type": "code",
      "source": [
        "#series from list\n",
        "country = ['India','Pakistan','London''Sirilanka']\n",
        "pd.Series(country)\n"
      ],
      "metadata": {
        "colab": {
          "base_uri": "https://localhost:8080/",
          "height": 178
        },
        "id": "VOp1OzJwOWEg",
        "outputId": "b451f449-b914-4757-f635-172dfbfe31c4"
      },
      "execution_count": 4,
      "outputs": [
        {
          "output_type": "execute_result",
          "data": {
            "text/plain": [
              "0              India\n",
              "1           Pakistan\n",
              "2    LondonSirilanka\n",
              "dtype: object"
            ],
            "text/html": [
              "<div>\n",
              "<style scoped>\n",
              "    .dataframe tbody tr th:only-of-type {\n",
              "        vertical-align: middle;\n",
              "    }\n",
              "\n",
              "    .dataframe tbody tr th {\n",
              "        vertical-align: top;\n",
              "    }\n",
              "\n",
              "    .dataframe thead th {\n",
              "        text-align: right;\n",
              "    }\n",
              "</style>\n",
              "<table border=\"1\" class=\"dataframe\">\n",
              "  <thead>\n",
              "    <tr style=\"text-align: right;\">\n",
              "      <th></th>\n",
              "      <th>0</th>\n",
              "    </tr>\n",
              "  </thead>\n",
              "  <tbody>\n",
              "    <tr>\n",
              "      <th>0</th>\n",
              "      <td>India</td>\n",
              "    </tr>\n",
              "    <tr>\n",
              "      <th>1</th>\n",
              "      <td>Pakistan</td>\n",
              "    </tr>\n",
              "    <tr>\n",
              "      <th>2</th>\n",
              "      <td>LondonSirilanka</td>\n",
              "    </tr>\n",
              "  </tbody>\n",
              "</table>\n",
              "</div><br><label><b>dtype:</b> object</label>"
            ]
          },
          "metadata": {},
          "execution_count": 4
        }
      ]
    },
    {
      "cell_type": "code",
      "source": [
        "#int\n",
        "runs=[1,2,47,88,45,80]\n",
        "pd.Series(runs)"
      ],
      "metadata": {
        "colab": {
          "base_uri": "https://localhost:8080/",
          "height": 272
        },
        "id": "uJnXNkNcPHhj",
        "outputId": "eb9f05c1-0202-49fe-e71c-8158532a9e38"
      },
      "execution_count": 8,
      "outputs": [
        {
          "output_type": "execute_result",
          "data": {
            "text/plain": [
              "0     1\n",
              "1     2\n",
              "2    47\n",
              "3    88\n",
              "4    45\n",
              "5    80\n",
              "dtype: int64"
            ],
            "text/html": [
              "<div>\n",
              "<style scoped>\n",
              "    .dataframe tbody tr th:only-of-type {\n",
              "        vertical-align: middle;\n",
              "    }\n",
              "\n",
              "    .dataframe tbody tr th {\n",
              "        vertical-align: top;\n",
              "    }\n",
              "\n",
              "    .dataframe thead th {\n",
              "        text-align: right;\n",
              "    }\n",
              "</style>\n",
              "<table border=\"1\" class=\"dataframe\">\n",
              "  <thead>\n",
              "    <tr style=\"text-align: right;\">\n",
              "      <th></th>\n",
              "      <th>0</th>\n",
              "    </tr>\n",
              "  </thead>\n",
              "  <tbody>\n",
              "    <tr>\n",
              "      <th>0</th>\n",
              "      <td>1</td>\n",
              "    </tr>\n",
              "    <tr>\n",
              "      <th>1</th>\n",
              "      <td>2</td>\n",
              "    </tr>\n",
              "    <tr>\n",
              "      <th>2</th>\n",
              "      <td>47</td>\n",
              "    </tr>\n",
              "    <tr>\n",
              "      <th>3</th>\n",
              "      <td>88</td>\n",
              "    </tr>\n",
              "    <tr>\n",
              "      <th>4</th>\n",
              "      <td>45</td>\n",
              "    </tr>\n",
              "    <tr>\n",
              "      <th>5</th>\n",
              "      <td>80</td>\n",
              "    </tr>\n",
              "  </tbody>\n",
              "</table>\n",
              "</div><br><label><b>dtype:</b> int64</label>"
            ]
          },
          "metadata": {},
          "execution_count": 8
        }
      ]
    },
    {
      "cell_type": "code",
      "source": [
        "# custom index\n",
        "marks = [67,57,89,100]\n",
        "subjects = ['maths','english','science','hindi']\n",
        "pd.Series(marks,index=subjects)"
      ],
      "metadata": {
        "colab": {
          "base_uri": "https://localhost:8080/",
          "height": 209
        },
        "id": "REDGCxVvPH1q",
        "outputId": "a7272a15-7e3a-4ac3-a1be-f782f35d3e24"
      },
      "execution_count": 9,
      "outputs": [
        {
          "output_type": "execute_result",
          "data": {
            "text/plain": [
              "maths       67\n",
              "english     57\n",
              "science     89\n",
              "hindi      100\n",
              "dtype: int64"
            ],
            "text/html": [
              "<div>\n",
              "<style scoped>\n",
              "    .dataframe tbody tr th:only-of-type {\n",
              "        vertical-align: middle;\n",
              "    }\n",
              "\n",
              "    .dataframe tbody tr th {\n",
              "        vertical-align: top;\n",
              "    }\n",
              "\n",
              "    .dataframe thead th {\n",
              "        text-align: right;\n",
              "    }\n",
              "</style>\n",
              "<table border=\"1\" class=\"dataframe\">\n",
              "  <thead>\n",
              "    <tr style=\"text-align: right;\">\n",
              "      <th></th>\n",
              "      <th>0</th>\n",
              "    </tr>\n",
              "  </thead>\n",
              "  <tbody>\n",
              "    <tr>\n",
              "      <th>maths</th>\n",
              "      <td>67</td>\n",
              "    </tr>\n",
              "    <tr>\n",
              "      <th>english</th>\n",
              "      <td>57</td>\n",
              "    </tr>\n",
              "    <tr>\n",
              "      <th>science</th>\n",
              "      <td>89</td>\n",
              "    </tr>\n",
              "    <tr>\n",
              "      <th>hindi</th>\n",
              "      <td>100</td>\n",
              "    </tr>\n",
              "  </tbody>\n",
              "</table>\n",
              "</div><br><label><b>dtype:</b> int64</label>"
            ]
          },
          "metadata": {},
          "execution_count": 9
        }
      ]
    },
    {
      "cell_type": "code",
      "source": [
        "marks = pd.Series(marks,index=subjects,name='FIZA ke marks')\n",
        "marks"
      ],
      "metadata": {
        "colab": {
          "base_uri": "https://localhost:8080/",
          "height": 209
        },
        "id": "1EYYTHbMejpC",
        "outputId": "d55bf1ac-98e6-4ef3-85c4-8ed8262a9c06"
      },
      "execution_count": 10,
      "outputs": [
        {
          "output_type": "execute_result",
          "data": {
            "text/plain": [
              "maths       67\n",
              "english     57\n",
              "science     89\n",
              "hindi      100\n",
              "Name: FIZA ke marks, dtype: int64"
            ],
            "text/html": [
              "<div>\n",
              "<style scoped>\n",
              "    .dataframe tbody tr th:only-of-type {\n",
              "        vertical-align: middle;\n",
              "    }\n",
              "\n",
              "    .dataframe tbody tr th {\n",
              "        vertical-align: top;\n",
              "    }\n",
              "\n",
              "    .dataframe thead th {\n",
              "        text-align: right;\n",
              "    }\n",
              "</style>\n",
              "<table border=\"1\" class=\"dataframe\">\n",
              "  <thead>\n",
              "    <tr style=\"text-align: right;\">\n",
              "      <th></th>\n",
              "      <th>FIZA ke marks</th>\n",
              "    </tr>\n",
              "  </thead>\n",
              "  <tbody>\n",
              "    <tr>\n",
              "      <th>maths</th>\n",
              "      <td>67</td>\n",
              "    </tr>\n",
              "    <tr>\n",
              "      <th>english</th>\n",
              "      <td>57</td>\n",
              "    </tr>\n",
              "    <tr>\n",
              "      <th>science</th>\n",
              "      <td>89</td>\n",
              "    </tr>\n",
              "    <tr>\n",
              "      <th>hindi</th>\n",
              "      <td>100</td>\n",
              "    </tr>\n",
              "  </tbody>\n",
              "</table>\n",
              "</div><br><label><b>dtype:</b> int64</label>"
            ]
          },
          "metadata": {},
          "execution_count": 10
        }
      ]
    },
    {
      "cell_type": "markdown",
      "source": [
        "series from dict"
      ],
      "metadata": {
        "id": "qV2V6lwXhptw"
      }
    },
    {
      "cell_type": "code",
      "source": [
        "marks={\n",
        "'maths':90,\n",
        "'english':78,\n",
        "'science':70,\n",
        " 'hindi':90\n",
        "}\n",
        "\n",
        "marks_series=pd.Series(marks,name='FIZA ke marks')\n",
        "marks_series\n"
      ],
      "metadata": {
        "colab": {
          "base_uri": "https://localhost:8080/",
          "height": 209
        },
        "id": "QcLaAUomejsZ",
        "outputId": "58cf5e41-4fe0-4c42-a40b-89bc75a8a97b"
      },
      "execution_count": 13,
      "outputs": [
        {
          "output_type": "execute_result",
          "data": {
            "text/plain": [
              "maths      90\n",
              "english    78\n",
              "science    70\n",
              "hindi      90\n",
              "Name: FIZA ke marks, dtype: int64"
            ],
            "text/html": [
              "<div>\n",
              "<style scoped>\n",
              "    .dataframe tbody tr th:only-of-type {\n",
              "        vertical-align: middle;\n",
              "    }\n",
              "\n",
              "    .dataframe tbody tr th {\n",
              "        vertical-align: top;\n",
              "    }\n",
              "\n",
              "    .dataframe thead th {\n",
              "        text-align: right;\n",
              "    }\n",
              "</style>\n",
              "<table border=\"1\" class=\"dataframe\">\n",
              "  <thead>\n",
              "    <tr style=\"text-align: right;\">\n",
              "      <th></th>\n",
              "      <th>FIZA ke marks</th>\n",
              "    </tr>\n",
              "  </thead>\n",
              "  <tbody>\n",
              "    <tr>\n",
              "      <th>maths</th>\n",
              "      <td>90</td>\n",
              "    </tr>\n",
              "    <tr>\n",
              "      <th>english</th>\n",
              "      <td>78</td>\n",
              "    </tr>\n",
              "    <tr>\n",
              "      <th>science</th>\n",
              "      <td>70</td>\n",
              "    </tr>\n",
              "    <tr>\n",
              "      <th>hindi</th>\n",
              "      <td>90</td>\n",
              "    </tr>\n",
              "  </tbody>\n",
              "</table>\n",
              "</div><br><label><b>dtype:</b> int64</label>"
            ]
          },
          "metadata": {},
          "execution_count": 13
        }
      ]
    },
    {
      "cell_type": "markdown",
      "source": [
        "SET ATTRIBUTE"
      ],
      "metadata": {
        "id": "Aj75LSZTifb7"
      }
    },
    {
      "cell_type": "code",
      "source": [
        "marks_series.size"
      ],
      "metadata": {
        "colab": {
          "base_uri": "https://localhost:8080/"
        },
        "id": "Z-UYjVRciS09",
        "outputId": "e1429589-9a59-41d6-c78f-1b1d48555940"
      },
      "execution_count": 14,
      "outputs": [
        {
          "output_type": "execute_result",
          "data": {
            "text/plain": [
              "4"
            ]
          },
          "metadata": {},
          "execution_count": 14
        }
      ]
    },
    {
      "cell_type": "code",
      "source": [
        "marks_series.dtype"
      ],
      "metadata": {
        "colab": {
          "base_uri": "https://localhost:8080/"
        },
        "id": "4dXfjMPViS33",
        "outputId": "a1f76fee-3be0-425d-90e8-b12e3d1b72c1"
      },
      "execution_count": 15,
      "outputs": [
        {
          "output_type": "execute_result",
          "data": {
            "text/plain": [
              "dtype('int64')"
            ]
          },
          "metadata": {},
          "execution_count": 15
        }
      ]
    },
    {
      "cell_type": "code",
      "source": [
        "marks_series.name"
      ],
      "metadata": {
        "colab": {
          "base_uri": "https://localhost:8080/",
          "height": 36
        },
        "id": "5RGpQzxCkW3d",
        "outputId": "e8f91389-e679-4e80-fe43-377134a02b95"
      },
      "execution_count": 16,
      "outputs": [
        {
          "output_type": "execute_result",
          "data": {
            "text/plain": [
              "'FIZA ke marks'"
            ],
            "application/vnd.google.colaboratory.intrinsic+json": {
              "type": "string"
            }
          },
          "metadata": {},
          "execution_count": 16
        }
      ]
    },
    {
      "cell_type": "code",
      "source": [
        "marks_series.is_unique"
      ],
      "metadata": {
        "colab": {
          "base_uri": "https://localhost:8080/"
        },
        "id": "lLM_CKMvkW6r",
        "outputId": "73cc2ab3-6002-4f97-e92e-a511d47f2df1"
      },
      "execution_count": 24,
      "outputs": [
        {
          "output_type": "execute_result",
          "data": {
            "text/plain": [
              "False"
            ]
          },
          "metadata": {},
          "execution_count": 24
        }
      ]
    },
    {
      "cell_type": "code",
      "source": [],
      "metadata": {
        "id": "RJNNxkYHp2sq"
      },
      "execution_count": null,
      "outputs": []
    },
    {
      "cell_type": "code",
      "source": [
        "marks_series.index"
      ],
      "metadata": {
        "colab": {
          "base_uri": "https://localhost:8080/"
        },
        "id": "AWMRhTrEkW9l",
        "outputId": "192f070d-68d1-4042-dbd9-fd4f13f9b0c1"
      },
      "execution_count": 23,
      "outputs": [
        {
          "output_type": "execute_result",
          "data": {
            "text/plain": [
              "Index(['maths', 'english', 'science', 'hindi'], dtype='object')"
            ]
          },
          "metadata": {},
          "execution_count": 23
        }
      ]
    },
    {
      "cell_type": "code",
      "source": [
        "marks_series.values"
      ],
      "metadata": {
        "colab": {
          "base_uri": "https://localhost:8080/"
        },
        "id": "V5DLJWuHluOo",
        "outputId": "a66524a9-4307-4b5b-b10e-63097ace72e5"
      },
      "execution_count": 19,
      "outputs": [
        {
          "output_type": "execute_result",
          "data": {
            "text/plain": [
              "array([90, 78, 70, 90])"
            ]
          },
          "metadata": {},
          "execution_count": 19
        }
      ]
    },
    {
      "cell_type": "code",
      "source": [
        "type(runs_ser.index)"
      ],
      "metadata": {
        "colab": {
          "base_uri": "https://localhost:8080/"
        },
        "id": "63skeh52nAkK",
        "outputId": "7295edf4-2c27-4e9d-e761-1d290cc8bdcf"
      },
      "execution_count": 22,
      "outputs": [
        {
          "output_type": "execute_result",
          "data": {
            "text/plain": [
              "pandas.core.indexes.range.RangeIndex"
            ]
          },
          "metadata": {},
          "execution_count": 22
        }
      ]
    },
    {
      "cell_type": "code",
      "source": [
        "# is_unique\n",
        "marks_series.is_unique\n",
        "\n",
        "pd.Series([1,1,2,3,4,5]).is_unique"
      ],
      "metadata": {
        "colab": {
          "base_uri": "https://localhost:8080/"
        },
        "id": "-OJUOFgjluSf",
        "outputId": "c3cb2b4d-40a2-4006-c4c2-f12aca7cabbb"
      },
      "execution_count": 20,
      "outputs": [
        {
          "output_type": "execute_result",
          "data": {
            "text/plain": [
              "False"
            ]
          },
          "metadata": {},
          "execution_count": 20
        }
      ]
    },
    {
      "cell_type": "markdown",
      "source": [
        "series using read_csv"
      ],
      "metadata": {
        "id": "_Xs2NZeEhoUZ"
      }
    },
    {
      "cell_type": "code",
      "source": [
        "import pandas as pd\n",
        "\n",
        "subs = pd.read_csv('/content/subs.csv')\n",
        "subs = subs.squeeze(\"columns\")\n",
        "print(type(subs))\n",
        "print(subs)\n"
      ],
      "metadata": {
        "colab": {
          "base_uri": "https://localhost:8080/"
        },
        "id": "23PYqthvsy9n",
        "outputId": "0c5c21c5-92fd-4bb4-914c-688daaf5395d"
      },
      "execution_count": 35,
      "outputs": [
        {
          "output_type": "stream",
          "name": "stdout",
          "text": [
            "<class 'pandas.core.series.Series'>\n",
            "0       48\n",
            "1       57\n",
            "2       40\n",
            "3       43\n",
            "4       44\n",
            "      ... \n",
            "360    231\n",
            "361    226\n",
            "362    155\n",
            "363    144\n",
            "364    172\n",
            "Name: Subscribers gained, Length: 365, dtype: int64\n"
          ]
        }
      ]
    },
    {
      "cell_type": "code",
      "source": [
        "import pandas as pd\n",
        "\n",
        "vk = pd.read_csv('/content/kohli_ipl.csv', index_col='match_no')\n",
        "vk = vk.squeeze(\"columns\")  # Only use this if you're sure there's only one column besides index\n",
        "print(vk)\n"
      ],
      "metadata": {
        "colab": {
          "base_uri": "https://localhost:8080/"
        },
        "id": "iX7WAcDtvgNl",
        "outputId": "9bc4cbb9-8585-4276-9615-a41e2fd68e5f"
      },
      "execution_count": 40,
      "outputs": [
        {
          "output_type": "stream",
          "name": "stdout",
          "text": [
            "match_no\n",
            "1       1\n",
            "2      23\n",
            "3      13\n",
            "4      12\n",
            "5       1\n",
            "       ..\n",
            "211     0\n",
            "212    20\n",
            "213    73\n",
            "214    25\n",
            "215     7\n",
            "Name: runs, Length: 215, dtype: int64\n"
          ]
        }
      ]
    },
    {
      "cell_type": "code",
      "source": [
        "import pandas as pd\n",
        "\n",
        "boll = pd.read_csv('/content/bollywood.csv', index_col='movie')\n",
        "boll = boll.squeeze(\"columns\")  # Only use this if you're sure there's only one column besides index\n",
        "print(boll)\n"
      ],
      "metadata": {
        "colab": {
          "base_uri": "https://localhost:8080/"
        },
        "id": "CwfiiY_evwSX",
        "outputId": "f0479fe4-11df-4cbb-d105-452b26b8e38c"
      },
      "execution_count": 51,
      "outputs": [
        {
          "output_type": "stream",
          "name": "stdout",
          "text": [
            "movie\n",
            "Uri: The Surgical Strike                   Vicky Kaushal\n",
            "Battalion 609                                Vicky Ahuja\n",
            "The Accidental Prime Minister (film)         Anupam Kher\n",
            "Why Cheat India                            Emraan Hashmi\n",
            "Evening Shadows                         Mona Ambegaonkar\n",
            "                                              ...       \n",
            "Hum Tumhare Hain Sanam                    Shah Rukh Khan\n",
            "Aankhen (2002 film)                     Amitabh Bachchan\n",
            "Saathiya (film)                             Vivek Oberoi\n",
            "Company (film)                                Ajay Devgn\n",
            "Awara Paagal Deewana                        Akshay Kumar\n",
            "Name: lead, Length: 1500, dtype: object\n"
          ]
        }
      ]
    },
    {
      "cell_type": "markdown",
      "source": [
        "series method"
      ],
      "metadata": {
        "id": "jFzol_-kvnsq"
      }
    },
    {
      "cell_type": "code",
      "source": [
        "#head tail\n",
        "subs.head()"
      ],
      "metadata": {
        "colab": {
          "base_uri": "https://localhost:8080/",
          "height": 206
        },
        "id": "LXYswnLFvj4d",
        "outputId": "595df818-8410-40e0-8b1e-8024d05f082c"
      },
      "execution_count": 43,
      "outputs": [
        {
          "output_type": "execute_result",
          "data": {
            "text/plain": [
              "   Subscribers gained\n",
              "0                  48\n",
              "1                  57\n",
              "2                  40\n",
              "3                  43\n",
              "4                  44"
            ],
            "text/html": [
              "\n",
              "  <div id=\"df-7dbe4280-4c4a-4488-a128-efc2444a8b0e\" class=\"colab-df-container\">\n",
              "    <div>\n",
              "<style scoped>\n",
              "    .dataframe tbody tr th:only-of-type {\n",
              "        vertical-align: middle;\n",
              "    }\n",
              "\n",
              "    .dataframe tbody tr th {\n",
              "        vertical-align: top;\n",
              "    }\n",
              "\n",
              "    .dataframe thead th {\n",
              "        text-align: right;\n",
              "    }\n",
              "</style>\n",
              "<table border=\"1\" class=\"dataframe\">\n",
              "  <thead>\n",
              "    <tr style=\"text-align: right;\">\n",
              "      <th></th>\n",
              "      <th>Subscribers gained</th>\n",
              "    </tr>\n",
              "  </thead>\n",
              "  <tbody>\n",
              "    <tr>\n",
              "      <th>0</th>\n",
              "      <td>48</td>\n",
              "    </tr>\n",
              "    <tr>\n",
              "      <th>1</th>\n",
              "      <td>57</td>\n",
              "    </tr>\n",
              "    <tr>\n",
              "      <th>2</th>\n",
              "      <td>40</td>\n",
              "    </tr>\n",
              "    <tr>\n",
              "      <th>3</th>\n",
              "      <td>43</td>\n",
              "    </tr>\n",
              "    <tr>\n",
              "      <th>4</th>\n",
              "      <td>44</td>\n",
              "    </tr>\n",
              "  </tbody>\n",
              "</table>\n",
              "</div>\n",
              "    <div class=\"colab-df-buttons\">\n",
              "\n",
              "  <div class=\"colab-df-container\">\n",
              "    <button class=\"colab-df-convert\" onclick=\"convertToInteractive('df-7dbe4280-4c4a-4488-a128-efc2444a8b0e')\"\n",
              "            title=\"Convert this dataframe to an interactive table.\"\n",
              "            style=\"display:none;\">\n",
              "\n",
              "  <svg xmlns=\"http://www.w3.org/2000/svg\" height=\"24px\" viewBox=\"0 -960 960 960\">\n",
              "    <path d=\"M120-120v-720h720v720H120Zm60-500h600v-160H180v160Zm220 220h160v-160H400v160Zm0 220h160v-160H400v160ZM180-400h160v-160H180v160Zm440 0h160v-160H620v160ZM180-180h160v-160H180v160Zm440 0h160v-160H620v160Z\"/>\n",
              "  </svg>\n",
              "    </button>\n",
              "\n",
              "  <style>\n",
              "    .colab-df-container {\n",
              "      display:flex;\n",
              "      gap: 12px;\n",
              "    }\n",
              "\n",
              "    .colab-df-convert {\n",
              "      background-color: #E8F0FE;\n",
              "      border: none;\n",
              "      border-radius: 50%;\n",
              "      cursor: pointer;\n",
              "      display: none;\n",
              "      fill: #1967D2;\n",
              "      height: 32px;\n",
              "      padding: 0 0 0 0;\n",
              "      width: 32px;\n",
              "    }\n",
              "\n",
              "    .colab-df-convert:hover {\n",
              "      background-color: #E2EBFA;\n",
              "      box-shadow: 0px 1px 2px rgba(60, 64, 67, 0.3), 0px 1px 3px 1px rgba(60, 64, 67, 0.15);\n",
              "      fill: #174EA6;\n",
              "    }\n",
              "\n",
              "    .colab-df-buttons div {\n",
              "      margin-bottom: 4px;\n",
              "    }\n",
              "\n",
              "    [theme=dark] .colab-df-convert {\n",
              "      background-color: #3B4455;\n",
              "      fill: #D2E3FC;\n",
              "    }\n",
              "\n",
              "    [theme=dark] .colab-df-convert:hover {\n",
              "      background-color: #434B5C;\n",
              "      box-shadow: 0px 1px 3px 1px rgba(0, 0, 0, 0.15);\n",
              "      filter: drop-shadow(0px 1px 2px rgba(0, 0, 0, 0.3));\n",
              "      fill: #FFFFFF;\n",
              "    }\n",
              "  </style>\n",
              "\n",
              "    <script>\n",
              "      const buttonEl =\n",
              "        document.querySelector('#df-7dbe4280-4c4a-4488-a128-efc2444a8b0e button.colab-df-convert');\n",
              "      buttonEl.style.display =\n",
              "        google.colab.kernel.accessAllowed ? 'block' : 'none';\n",
              "\n",
              "      async function convertToInteractive(key) {\n",
              "        const element = document.querySelector('#df-7dbe4280-4c4a-4488-a128-efc2444a8b0e');\n",
              "        const dataTable =\n",
              "          await google.colab.kernel.invokeFunction('convertToInteractive',\n",
              "                                                    [key], {});\n",
              "        if (!dataTable) return;\n",
              "\n",
              "        const docLinkHtml = 'Like what you see? Visit the ' +\n",
              "          '<a target=\"_blank\" href=https://colab.research.google.com/notebooks/data_table.ipynb>data table notebook</a>'\n",
              "          + ' to learn more about interactive tables.';\n",
              "        element.innerHTML = '';\n",
              "        dataTable['output_type'] = 'display_data';\n",
              "        await google.colab.output.renderOutput(dataTable, element);\n",
              "        const docLink = document.createElement('div');\n",
              "        docLink.innerHTML = docLinkHtml;\n",
              "        element.appendChild(docLink);\n",
              "      }\n",
              "    </script>\n",
              "  </div>\n",
              "\n",
              "\n",
              "    <div id=\"df-fbbf5eae-af49-4f8b-93aa-88e33e7ab704\">\n",
              "      <button class=\"colab-df-quickchart\" onclick=\"quickchart('df-fbbf5eae-af49-4f8b-93aa-88e33e7ab704')\"\n",
              "                title=\"Suggest charts\"\n",
              "                style=\"display:none;\">\n",
              "\n",
              "<svg xmlns=\"http://www.w3.org/2000/svg\" height=\"24px\"viewBox=\"0 0 24 24\"\n",
              "     width=\"24px\">\n",
              "    <g>\n",
              "        <path d=\"M19 3H5c-1.1 0-2 .9-2 2v14c0 1.1.9 2 2 2h14c1.1 0 2-.9 2-2V5c0-1.1-.9-2-2-2zM9 17H7v-7h2v7zm4 0h-2V7h2v10zm4 0h-2v-4h2v4z\"/>\n",
              "    </g>\n",
              "</svg>\n",
              "      </button>\n",
              "\n",
              "<style>\n",
              "  .colab-df-quickchart {\n",
              "      --bg-color: #E8F0FE;\n",
              "      --fill-color: #1967D2;\n",
              "      --hover-bg-color: #E2EBFA;\n",
              "      --hover-fill-color: #174EA6;\n",
              "      --disabled-fill-color: #AAA;\n",
              "      --disabled-bg-color: #DDD;\n",
              "  }\n",
              "\n",
              "  [theme=dark] .colab-df-quickchart {\n",
              "      --bg-color: #3B4455;\n",
              "      --fill-color: #D2E3FC;\n",
              "      --hover-bg-color: #434B5C;\n",
              "      --hover-fill-color: #FFFFFF;\n",
              "      --disabled-bg-color: #3B4455;\n",
              "      --disabled-fill-color: #666;\n",
              "  }\n",
              "\n",
              "  .colab-df-quickchart {\n",
              "    background-color: var(--bg-color);\n",
              "    border: none;\n",
              "    border-radius: 50%;\n",
              "    cursor: pointer;\n",
              "    display: none;\n",
              "    fill: var(--fill-color);\n",
              "    height: 32px;\n",
              "    padding: 0;\n",
              "    width: 32px;\n",
              "  }\n",
              "\n",
              "  .colab-df-quickchart:hover {\n",
              "    background-color: var(--hover-bg-color);\n",
              "    box-shadow: 0 1px 2px rgba(60, 64, 67, 0.3), 0 1px 3px 1px rgba(60, 64, 67, 0.15);\n",
              "    fill: var(--button-hover-fill-color);\n",
              "  }\n",
              "\n",
              "  .colab-df-quickchart-complete:disabled,\n",
              "  .colab-df-quickchart-complete:disabled:hover {\n",
              "    background-color: var(--disabled-bg-color);\n",
              "    fill: var(--disabled-fill-color);\n",
              "    box-shadow: none;\n",
              "  }\n",
              "\n",
              "  .colab-df-spinner {\n",
              "    border: 2px solid var(--fill-color);\n",
              "    border-color: transparent;\n",
              "    border-bottom-color: var(--fill-color);\n",
              "    animation:\n",
              "      spin 1s steps(1) infinite;\n",
              "  }\n",
              "\n",
              "  @keyframes spin {\n",
              "    0% {\n",
              "      border-color: transparent;\n",
              "      border-bottom-color: var(--fill-color);\n",
              "      border-left-color: var(--fill-color);\n",
              "    }\n",
              "    20% {\n",
              "      border-color: transparent;\n",
              "      border-left-color: var(--fill-color);\n",
              "      border-top-color: var(--fill-color);\n",
              "    }\n",
              "    30% {\n",
              "      border-color: transparent;\n",
              "      border-left-color: var(--fill-color);\n",
              "      border-top-color: var(--fill-color);\n",
              "      border-right-color: var(--fill-color);\n",
              "    }\n",
              "    40% {\n",
              "      border-color: transparent;\n",
              "      border-right-color: var(--fill-color);\n",
              "      border-top-color: var(--fill-color);\n",
              "    }\n",
              "    60% {\n",
              "      border-color: transparent;\n",
              "      border-right-color: var(--fill-color);\n",
              "    }\n",
              "    80% {\n",
              "      border-color: transparent;\n",
              "      border-right-color: var(--fill-color);\n",
              "      border-bottom-color: var(--fill-color);\n",
              "    }\n",
              "    90% {\n",
              "      border-color: transparent;\n",
              "      border-bottom-color: var(--fill-color);\n",
              "    }\n",
              "  }\n",
              "</style>\n",
              "\n",
              "      <script>\n",
              "        async function quickchart(key) {\n",
              "          const quickchartButtonEl =\n",
              "            document.querySelector('#' + key + ' button');\n",
              "          quickchartButtonEl.disabled = true;  // To prevent multiple clicks.\n",
              "          quickchartButtonEl.classList.add('colab-df-spinner');\n",
              "          try {\n",
              "            const charts = await google.colab.kernel.invokeFunction(\n",
              "                'suggestCharts', [key], {});\n",
              "          } catch (error) {\n",
              "            console.error('Error during call to suggestCharts:', error);\n",
              "          }\n",
              "          quickchartButtonEl.classList.remove('colab-df-spinner');\n",
              "          quickchartButtonEl.classList.add('colab-df-quickchart-complete');\n",
              "        }\n",
              "        (() => {\n",
              "          let quickchartButtonEl =\n",
              "            document.querySelector('#df-fbbf5eae-af49-4f8b-93aa-88e33e7ab704 button');\n",
              "          quickchartButtonEl.style.display =\n",
              "            google.colab.kernel.accessAllowed ? 'block' : 'none';\n",
              "        })();\n",
              "      </script>\n",
              "    </div>\n",
              "\n",
              "    </div>\n",
              "  </div>\n"
            ],
            "application/vnd.google.colaboratory.intrinsic+json": {
              "type": "dataframe",
              "variable_name": "subs",
              "summary": "{\n  \"name\": \"subs\",\n  \"rows\": 365,\n  \"fields\": [\n    {\n      \"column\": \"Subscribers gained\",\n      \"properties\": {\n        \"dtype\": \"number\",\n        \"std\": 62,\n        \"min\": 33,\n        \"max\": 396,\n        \"num_unique_values\": 180,\n        \"samples\": [\n          61,\n          136,\n          230\n        ],\n        \"semantic_type\": \"\",\n        \"description\": \"\"\n      }\n    }\n  ]\n}"
            }
          },
          "metadata": {},
          "execution_count": 43
        }
      ]
    },
    {
      "cell_type": "code",
      "source": [
        "vk.head(7)"
      ],
      "metadata": {
        "colab": {
          "base_uri": "https://localhost:8080/",
          "height": 335
        },
        "id": "0g65K_mR4E0T",
        "outputId": "20e69b29-0419-4a98-fbe7-bc50c4a16cbf"
      },
      "execution_count": 44,
      "outputs": [
        {
          "output_type": "execute_result",
          "data": {
            "text/plain": [
              "match_no\n",
              "1     1\n",
              "2    23\n",
              "3    13\n",
              "4    12\n",
              "5     1\n",
              "6     9\n",
              "7    34\n",
              "Name: runs, dtype: int64"
            ],
            "text/html": [
              "<div>\n",
              "<style scoped>\n",
              "    .dataframe tbody tr th:only-of-type {\n",
              "        vertical-align: middle;\n",
              "    }\n",
              "\n",
              "    .dataframe tbody tr th {\n",
              "        vertical-align: top;\n",
              "    }\n",
              "\n",
              "    .dataframe thead th {\n",
              "        text-align: right;\n",
              "    }\n",
              "</style>\n",
              "<table border=\"1\" class=\"dataframe\">\n",
              "  <thead>\n",
              "    <tr style=\"text-align: right;\">\n",
              "      <th></th>\n",
              "      <th>runs</th>\n",
              "    </tr>\n",
              "    <tr>\n",
              "      <th>match_no</th>\n",
              "      <th></th>\n",
              "    </tr>\n",
              "  </thead>\n",
              "  <tbody>\n",
              "    <tr>\n",
              "      <th>1</th>\n",
              "      <td>1</td>\n",
              "    </tr>\n",
              "    <tr>\n",
              "      <th>2</th>\n",
              "      <td>23</td>\n",
              "    </tr>\n",
              "    <tr>\n",
              "      <th>3</th>\n",
              "      <td>13</td>\n",
              "    </tr>\n",
              "    <tr>\n",
              "      <th>4</th>\n",
              "      <td>12</td>\n",
              "    </tr>\n",
              "    <tr>\n",
              "      <th>5</th>\n",
              "      <td>1</td>\n",
              "    </tr>\n",
              "    <tr>\n",
              "      <th>6</th>\n",
              "      <td>9</td>\n",
              "    </tr>\n",
              "    <tr>\n",
              "      <th>7</th>\n",
              "      <td>34</td>\n",
              "    </tr>\n",
              "  </tbody>\n",
              "</table>\n",
              "</div><br><label><b>dtype:</b> int64</label>"
            ]
          },
          "metadata": {},
          "execution_count": 44
        }
      ]
    },
    {
      "cell_type": "code",
      "source": [
        "vk.tail(5)"
      ],
      "metadata": {
        "colab": {
          "base_uri": "https://localhost:8080/",
          "height": 272
        },
        "id": "HUg1rxvB4WNw",
        "outputId": "50950081-a3a3-4904-eba9-eaa6e2476d97"
      },
      "execution_count": 45,
      "outputs": [
        {
          "output_type": "execute_result",
          "data": {
            "text/plain": [
              "match_no\n",
              "211     0\n",
              "212    20\n",
              "213    73\n",
              "214    25\n",
              "215     7\n",
              "Name: runs, dtype: int64"
            ],
            "text/html": [
              "<div>\n",
              "<style scoped>\n",
              "    .dataframe tbody tr th:only-of-type {\n",
              "        vertical-align: middle;\n",
              "    }\n",
              "\n",
              "    .dataframe tbody tr th {\n",
              "        vertical-align: top;\n",
              "    }\n",
              "\n",
              "    .dataframe thead th {\n",
              "        text-align: right;\n",
              "    }\n",
              "</style>\n",
              "<table border=\"1\" class=\"dataframe\">\n",
              "  <thead>\n",
              "    <tr style=\"text-align: right;\">\n",
              "      <th></th>\n",
              "      <th>runs</th>\n",
              "    </tr>\n",
              "    <tr>\n",
              "      <th>match_no</th>\n",
              "      <th></th>\n",
              "    </tr>\n",
              "  </thead>\n",
              "  <tbody>\n",
              "    <tr>\n",
              "      <th>211</th>\n",
              "      <td>0</td>\n",
              "    </tr>\n",
              "    <tr>\n",
              "      <th>212</th>\n",
              "      <td>20</td>\n",
              "    </tr>\n",
              "    <tr>\n",
              "      <th>213</th>\n",
              "      <td>73</td>\n",
              "    </tr>\n",
              "    <tr>\n",
              "      <th>214</th>\n",
              "      <td>25</td>\n",
              "    </tr>\n",
              "    <tr>\n",
              "      <th>215</th>\n",
              "      <td>7</td>\n",
              "    </tr>\n",
              "  </tbody>\n",
              "</table>\n",
              "</div><br><label><b>dtype:</b> int64</label>"
            ]
          },
          "metadata": {},
          "execution_count": 45
        }
      ]
    },
    {
      "cell_type": "code",
      "source": [
        "print(boll.sample(8))  # because 'movie' is now the index\n"
      ],
      "metadata": {
        "colab": {
          "base_uri": "https://localhost:8080/"
        },
        "id": "z9smFIQIvj7V",
        "outputId": "fca68d53-0790-49a4-e526-39cafc192ef5"
      },
      "execution_count": 57,
      "outputs": [
        {
          "output_type": "stream",
          "name": "stdout",
          "text": [
            "movie\n",
            "Sabki Bajegi Band         Swara Bhaskar\n",
            "Ghost (2012 film)          Shiney Ahuja\n",
            "Prem Kaa Game               Arbaaz Khan\n",
            "Dhol (film)               Sharman Joshi\n",
            "Mere Brother Ki Dulhan       Imran Khan\n",
            "From Sydney with Love        Bidita Bag\n",
            "Jurm (2005 film)             Kamal Adib\n",
            "Badlapur (film)            Varun Dhawan\n",
            "Name: lead, dtype: object\n"
          ]
        }
      ]
    },
    {
      "cell_type": "code",
      "source": [
        "boll.value_counts()"
      ],
      "metadata": {
        "colab": {
          "base_uri": "https://localhost:8080/",
          "height": 489
        },
        "id": "-WjvRQjY6zCS",
        "outputId": "433e6078-1512-4e61-a285-76d81f2ad80a"
      },
      "execution_count": 60,
      "outputs": [
        {
          "output_type": "execute_result",
          "data": {
            "text/plain": [
              "lead\n",
              "Akshay Kumar         48\n",
              "Amitabh Bachchan     45\n",
              "Ajay Devgn           38\n",
              "Salman Khan          31\n",
              "Sanjay Dutt          26\n",
              "                     ..\n",
              "Seema Azmi            1\n",
              "Akanksha Puri         1\n",
              "Charanpreet Insan     1\n",
              "Jaideep Ahlawat       1\n",
              "Monali Thakur         1\n",
              "Name: count, Length: 566, dtype: int64"
            ],
            "text/html": [
              "<div>\n",
              "<style scoped>\n",
              "    .dataframe tbody tr th:only-of-type {\n",
              "        vertical-align: middle;\n",
              "    }\n",
              "\n",
              "    .dataframe tbody tr th {\n",
              "        vertical-align: top;\n",
              "    }\n",
              "\n",
              "    .dataframe thead th {\n",
              "        text-align: right;\n",
              "    }\n",
              "</style>\n",
              "<table border=\"1\" class=\"dataframe\">\n",
              "  <thead>\n",
              "    <tr style=\"text-align: right;\">\n",
              "      <th></th>\n",
              "      <th>count</th>\n",
              "    </tr>\n",
              "    <tr>\n",
              "      <th>lead</th>\n",
              "      <th></th>\n",
              "    </tr>\n",
              "  </thead>\n",
              "  <tbody>\n",
              "    <tr>\n",
              "      <th>Akshay Kumar</th>\n",
              "      <td>48</td>\n",
              "    </tr>\n",
              "    <tr>\n",
              "      <th>Amitabh Bachchan</th>\n",
              "      <td>45</td>\n",
              "    </tr>\n",
              "    <tr>\n",
              "      <th>Ajay Devgn</th>\n",
              "      <td>38</td>\n",
              "    </tr>\n",
              "    <tr>\n",
              "      <th>Salman Khan</th>\n",
              "      <td>31</td>\n",
              "    </tr>\n",
              "    <tr>\n",
              "      <th>Sanjay Dutt</th>\n",
              "      <td>26</td>\n",
              "    </tr>\n",
              "    <tr>\n",
              "      <th>...</th>\n",
              "      <td>...</td>\n",
              "    </tr>\n",
              "    <tr>\n",
              "      <th>Seema Azmi</th>\n",
              "      <td>1</td>\n",
              "    </tr>\n",
              "    <tr>\n",
              "      <th>Akanksha Puri</th>\n",
              "      <td>1</td>\n",
              "    </tr>\n",
              "    <tr>\n",
              "      <th>Charanpreet Insan</th>\n",
              "      <td>1</td>\n",
              "    </tr>\n",
              "    <tr>\n",
              "      <th>Jaideep Ahlawat</th>\n",
              "      <td>1</td>\n",
              "    </tr>\n",
              "    <tr>\n",
              "      <th>Monali Thakur</th>\n",
              "      <td>1</td>\n",
              "    </tr>\n",
              "  </tbody>\n",
              "</table>\n",
              "<p>566 rows × 1 columns</p>\n",
              "</div><br><label><b>dtype:</b> int64</label>"
            ]
          },
          "metadata": {},
          "execution_count": 60
        }
      ]
    },
    {
      "cell_type": "code",
      "source": [
        "boll.sort_values()"
      ],
      "metadata": {
        "colab": {
          "base_uri": "https://localhost:8080/",
          "height": 489
        },
        "id": "4Z4zH1-H6zFp",
        "outputId": "80e4e3e1-8c5d-488b-bf1f-618ef8296181"
      },
      "execution_count": 62,
      "outputs": [
        {
          "output_type": "execute_result",
          "data": {
            "text/plain": [
              "movie\n",
              "Qaidi Band                            Aadar Jain\n",
              "Roar: Tigers of the Sundarbans      Aadil Chahal\n",
              "Lipstick Under My Burkha            Aahana Kumra\n",
              "Raat Gayi Baat Gayi?                Aamir Bashir\n",
              "Talaash: The Answer Lies Within       Aamir Khan\n",
              "                                        ...     \n",
              "Dil Toh Deewana Hai                  Zeenat Aman\n",
              "Sallu Ki Shaadi                      Zeenat Aman\n",
              "Strings of Passion                   Zeenat Aman\n",
              "Dunno Y... Na Jaane Kyon             Zeenat Aman\n",
              "Taj Mahal: An Eternal Love Story     Zulfi Sayed\n",
              "Name: lead, Length: 1500, dtype: object"
            ],
            "text/html": [
              "<div>\n",
              "<style scoped>\n",
              "    .dataframe tbody tr th:only-of-type {\n",
              "        vertical-align: middle;\n",
              "    }\n",
              "\n",
              "    .dataframe tbody tr th {\n",
              "        vertical-align: top;\n",
              "    }\n",
              "\n",
              "    .dataframe thead th {\n",
              "        text-align: right;\n",
              "    }\n",
              "</style>\n",
              "<table border=\"1\" class=\"dataframe\">\n",
              "  <thead>\n",
              "    <tr style=\"text-align: right;\">\n",
              "      <th></th>\n",
              "      <th>lead</th>\n",
              "    </tr>\n",
              "    <tr>\n",
              "      <th>movie</th>\n",
              "      <th></th>\n",
              "    </tr>\n",
              "  </thead>\n",
              "  <tbody>\n",
              "    <tr>\n",
              "      <th>Qaidi Band</th>\n",
              "      <td>Aadar Jain</td>\n",
              "    </tr>\n",
              "    <tr>\n",
              "      <th>Roar: Tigers of the Sundarbans</th>\n",
              "      <td>Aadil Chahal</td>\n",
              "    </tr>\n",
              "    <tr>\n",
              "      <th>Lipstick Under My Burkha</th>\n",
              "      <td>Aahana Kumra</td>\n",
              "    </tr>\n",
              "    <tr>\n",
              "      <th>Raat Gayi Baat Gayi?</th>\n",
              "      <td>Aamir Bashir</td>\n",
              "    </tr>\n",
              "    <tr>\n",
              "      <th>Talaash: The Answer Lies Within</th>\n",
              "      <td>Aamir Khan</td>\n",
              "    </tr>\n",
              "    <tr>\n",
              "      <th>...</th>\n",
              "      <td>...</td>\n",
              "    </tr>\n",
              "    <tr>\n",
              "      <th>Dil Toh Deewana Hai</th>\n",
              "      <td>Zeenat Aman</td>\n",
              "    </tr>\n",
              "    <tr>\n",
              "      <th>Sallu Ki Shaadi</th>\n",
              "      <td>Zeenat Aman</td>\n",
              "    </tr>\n",
              "    <tr>\n",
              "      <th>Strings of Passion</th>\n",
              "      <td>Zeenat Aman</td>\n",
              "    </tr>\n",
              "    <tr>\n",
              "      <th>Dunno Y... Na Jaane Kyon</th>\n",
              "      <td>Zeenat Aman</td>\n",
              "    </tr>\n",
              "    <tr>\n",
              "      <th>Taj Mahal: An Eternal Love Story</th>\n",
              "      <td>Zulfi Sayed</td>\n",
              "    </tr>\n",
              "  </tbody>\n",
              "</table>\n",
              "<p>1500 rows × 1 columns</p>\n",
              "</div><br><label><b>dtype:</b> object</label>"
            ]
          },
          "metadata": {},
          "execution_count": 62
        }
      ]
    },
    {
      "cell_type": "code",
      "source": [
        "vk.sort_values(ascending=False).head(1)"
      ],
      "metadata": {
        "colab": {
          "base_uri": "https://localhost:8080/",
          "height": 147
        },
        "id": "IOcn5Gws6zJ3",
        "outputId": "ac6a468c-9c36-4daa-e7ec-665ef0f8c533"
      },
      "execution_count": 67,
      "outputs": [
        {
          "output_type": "execute_result",
          "data": {
            "text/plain": [
              "match_no\n",
              "128    113\n",
              "Name: runs, dtype: int64"
            ],
            "text/html": [
              "<div>\n",
              "<style scoped>\n",
              "    .dataframe tbody tr th:only-of-type {\n",
              "        vertical-align: middle;\n",
              "    }\n",
              "\n",
              "    .dataframe tbody tr th {\n",
              "        vertical-align: top;\n",
              "    }\n",
              "\n",
              "    .dataframe thead th {\n",
              "        text-align: right;\n",
              "    }\n",
              "</style>\n",
              "<table border=\"1\" class=\"dataframe\">\n",
              "  <thead>\n",
              "    <tr style=\"text-align: right;\">\n",
              "      <th></th>\n",
              "      <th>runs</th>\n",
              "    </tr>\n",
              "    <tr>\n",
              "      <th>match_no</th>\n",
              "      <th></th>\n",
              "    </tr>\n",
              "  </thead>\n",
              "  <tbody>\n",
              "    <tr>\n",
              "      <th>128</th>\n",
              "      <td>113</td>\n",
              "    </tr>\n",
              "  </tbody>\n",
              "</table>\n",
              "</div><br><label><b>dtype:</b> int64</label>"
            ]
          },
          "metadata": {},
          "execution_count": 67
        }
      ]
    },
    {
      "cell_type": "markdown",
      "source": [
        "series math method"
      ],
      "metadata": {
        "id": "ANvSvGtF9zfI"
      }
    },
    {
      "cell_type": "code",
      "source": [
        "vk.count()"
      ],
      "metadata": {
        "colab": {
          "base_uri": "https://localhost:8080/"
        },
        "id": "PJ7PhLbe9jlW",
        "outputId": "efe6e619-4deb-4ff7-e9e2-d3fd034f0606"
      },
      "execution_count": 69,
      "outputs": [
        {
          "output_type": "execute_result",
          "data": {
            "text/plain": [
              "np.int64(215)"
            ]
          },
          "metadata": {},
          "execution_count": 69
        }
      ]
    },
    {
      "cell_type": "code",
      "source": [
        "subs.sum()"
      ],
      "metadata": {
        "colab": {
          "base_uri": "https://localhost:8080/",
          "height": 115
        },
        "id": "-ppDdFx-9jpA",
        "outputId": "3264e7aa-c030-471a-9293-92e722b63d86"
      },
      "execution_count": 71,
      "outputs": [
        {
          "output_type": "execute_result",
          "data": {
            "text/plain": [
              "Subscribers gained    49510\n",
              "dtype: int64"
            ],
            "text/html": [
              "<div>\n",
              "<style scoped>\n",
              "    .dataframe tbody tr th:only-of-type {\n",
              "        vertical-align: middle;\n",
              "    }\n",
              "\n",
              "    .dataframe tbody tr th {\n",
              "        vertical-align: top;\n",
              "    }\n",
              "\n",
              "    .dataframe thead th {\n",
              "        text-align: right;\n",
              "    }\n",
              "</style>\n",
              "<table border=\"1\" class=\"dataframe\">\n",
              "  <thead>\n",
              "    <tr style=\"text-align: right;\">\n",
              "      <th></th>\n",
              "      <th>0</th>\n",
              "    </tr>\n",
              "  </thead>\n",
              "  <tbody>\n",
              "    <tr>\n",
              "      <th>Subscribers gained</th>\n",
              "      <td>49510</td>\n",
              "    </tr>\n",
              "  </tbody>\n",
              "</table>\n",
              "</div><br><label><b>dtype:</b> int64</label>"
            ]
          },
          "metadata": {},
          "execution_count": 71
        }
      ]
    },
    {
      "cell_type": "code",
      "source": [
        "subs.prod()"
      ],
      "metadata": {
        "colab": {
          "base_uri": "https://localhost:8080/",
          "height": 115
        },
        "id": "T_IyAlr--g-v",
        "outputId": "8658d408-6169-47b3-eb82-f1a197d3e2eb"
      },
      "execution_count": 73,
      "outputs": [
        {
          "output_type": "execute_result",
          "data": {
            "text/plain": [
              "Subscribers gained    0\n",
              "dtype: int64"
            ],
            "text/html": [
              "<div>\n",
              "<style scoped>\n",
              "    .dataframe tbody tr th:only-of-type {\n",
              "        vertical-align: middle;\n",
              "    }\n",
              "\n",
              "    .dataframe tbody tr th {\n",
              "        vertical-align: top;\n",
              "    }\n",
              "\n",
              "    .dataframe thead th {\n",
              "        text-align: right;\n",
              "    }\n",
              "</style>\n",
              "<table border=\"1\" class=\"dataframe\">\n",
              "  <thead>\n",
              "    <tr style=\"text-align: right;\">\n",
              "      <th></th>\n",
              "      <th>0</th>\n",
              "    </tr>\n",
              "  </thead>\n",
              "  <tbody>\n",
              "    <tr>\n",
              "      <th>Subscribers gained</th>\n",
              "      <td>0</td>\n",
              "    </tr>\n",
              "  </tbody>\n",
              "</table>\n",
              "</div><br><label><b>dtype:</b> int64</label>"
            ]
          },
          "metadata": {},
          "execution_count": 73
        }
      ]
    },
    {
      "cell_type": "code",
      "source": [
        "subs.mean()\n",
        "print(vk.median())\n",
        "print(boll.mode())\n",
        "print(subs.std())\n",
        "print(vk.var())\n",
        "#0 is index here not value"
      ],
      "metadata": {
        "colab": {
          "base_uri": "https://localhost:8080/"
        },
        "id": "-tM91jd99jsG",
        "outputId": "0f563d3c-6244-4134-ff75-b2743c28869f"
      },
      "execution_count": 81,
      "outputs": [
        {
          "output_type": "stream",
          "name": "stdout",
          "text": [
            "24.0\n",
            "0    Akshay Kumar\n",
            "Name: lead, dtype: object\n",
            "Subscribers gained    62.675023\n",
            "dtype: float64\n",
            "688.0024777222344\n"
          ]
        }
      ]
    },
    {
      "cell_type": "code",
      "source": [
        "subs.min()"
      ],
      "metadata": {
        "colab": {
          "base_uri": "https://localhost:8080/",
          "height": 115
        },
        "id": "vZyPLNhM-3_6",
        "outputId": "bd6340cc-6858-4fcd-8a4a-a24e2eaa97da"
      },
      "execution_count": 79,
      "outputs": [
        {
          "output_type": "execute_result",
          "data": {
            "text/plain": [
              "Subscribers gained    33\n",
              "dtype: int64"
            ],
            "text/html": [
              "<div>\n",
              "<style scoped>\n",
              "    .dataframe tbody tr th:only-of-type {\n",
              "        vertical-align: middle;\n",
              "    }\n",
              "\n",
              "    .dataframe tbody tr th {\n",
              "        vertical-align: top;\n",
              "    }\n",
              "\n",
              "    .dataframe thead th {\n",
              "        text-align: right;\n",
              "    }\n",
              "</style>\n",
              "<table border=\"1\" class=\"dataframe\">\n",
              "  <thead>\n",
              "    <tr style=\"text-align: right;\">\n",
              "      <th></th>\n",
              "      <th>0</th>\n",
              "    </tr>\n",
              "  </thead>\n",
              "  <tbody>\n",
              "    <tr>\n",
              "      <th>Subscribers gained</th>\n",
              "      <td>33</td>\n",
              "    </tr>\n",
              "  </tbody>\n",
              "</table>\n",
              "</div><br><label><b>dtype:</b> int64</label>"
            ]
          },
          "metadata": {},
          "execution_count": 79
        }
      ]
    },
    {
      "cell_type": "code",
      "source": [
        "subs.max()"
      ],
      "metadata": {
        "colab": {
          "base_uri": "https://localhost:8080/",
          "height": 115
        },
        "id": "0XxdocjF-4DZ",
        "outputId": "2a2aaf2f-290a-466e-edf2-2713e2828ae7"
      },
      "execution_count": 83,
      "outputs": [
        {
          "output_type": "execute_result",
          "data": {
            "text/plain": [
              "Subscribers gained    396\n",
              "dtype: int64"
            ],
            "text/html": [
              "<div>\n",
              "<style scoped>\n",
              "    .dataframe tbody tr th:only-of-type {\n",
              "        vertical-align: middle;\n",
              "    }\n",
              "\n",
              "    .dataframe tbody tr th {\n",
              "        vertical-align: top;\n",
              "    }\n",
              "\n",
              "    .dataframe thead th {\n",
              "        text-align: right;\n",
              "    }\n",
              "</style>\n",
              "<table border=\"1\" class=\"dataframe\">\n",
              "  <thead>\n",
              "    <tr style=\"text-align: right;\">\n",
              "      <th></th>\n",
              "      <th>0</th>\n",
              "    </tr>\n",
              "  </thead>\n",
              "  <tbody>\n",
              "    <tr>\n",
              "      <th>Subscribers gained</th>\n",
              "      <td>396</td>\n",
              "    </tr>\n",
              "  </tbody>\n",
              "</table>\n",
              "</div><br><label><b>dtype:</b> int64</label>"
            ]
          },
          "metadata": {},
          "execution_count": 83
        }
      ]
    },
    {
      "cell_type": "code",
      "source": [
        "vk.describe()"
      ],
      "metadata": {
        "colab": {
          "base_uri": "https://localhost:8080/",
          "height": 335
        },
        "id": "JED5Z5DjArnI",
        "outputId": "e2bfe6d2-1358-487a-b53e-6519a356d1dc"
      },
      "execution_count": 84,
      "outputs": [
        {
          "output_type": "execute_result",
          "data": {
            "text/plain": [
              "count    215.000000\n",
              "mean      30.855814\n",
              "std       26.229801\n",
              "min        0.000000\n",
              "25%        9.000000\n",
              "50%       24.000000\n",
              "75%       48.000000\n",
              "max      113.000000\n",
              "Name: runs, dtype: float64"
            ],
            "text/html": [
              "<div>\n",
              "<style scoped>\n",
              "    .dataframe tbody tr th:only-of-type {\n",
              "        vertical-align: middle;\n",
              "    }\n",
              "\n",
              "    .dataframe tbody tr th {\n",
              "        vertical-align: top;\n",
              "    }\n",
              "\n",
              "    .dataframe thead th {\n",
              "        text-align: right;\n",
              "    }\n",
              "</style>\n",
              "<table border=\"1\" class=\"dataframe\">\n",
              "  <thead>\n",
              "    <tr style=\"text-align: right;\">\n",
              "      <th></th>\n",
              "      <th>runs</th>\n",
              "    </tr>\n",
              "  </thead>\n",
              "  <tbody>\n",
              "    <tr>\n",
              "      <th>count</th>\n",
              "      <td>215.000000</td>\n",
              "    </tr>\n",
              "    <tr>\n",
              "      <th>mean</th>\n",
              "      <td>30.855814</td>\n",
              "    </tr>\n",
              "    <tr>\n",
              "      <th>std</th>\n",
              "      <td>26.229801</td>\n",
              "    </tr>\n",
              "    <tr>\n",
              "      <th>min</th>\n",
              "      <td>0.000000</td>\n",
              "    </tr>\n",
              "    <tr>\n",
              "      <th>25%</th>\n",
              "      <td>9.000000</td>\n",
              "    </tr>\n",
              "    <tr>\n",
              "      <th>50%</th>\n",
              "      <td>24.000000</td>\n",
              "    </tr>\n",
              "    <tr>\n",
              "      <th>75%</th>\n",
              "      <td>48.000000</td>\n",
              "    </tr>\n",
              "    <tr>\n",
              "      <th>max</th>\n",
              "      <td>113.000000</td>\n",
              "    </tr>\n",
              "  </tbody>\n",
              "</table>\n",
              "</div><br><label><b>dtype:</b> float64</label>"
            ]
          },
          "metadata": {},
          "execution_count": 84
        }
      ]
    },
    {
      "cell_type": "markdown",
      "source": [
        "series indexing"
      ],
      "metadata": {
        "id": "Ad7MnKqBA6xW"
      }
    },
    {
      "cell_type": "code",
      "source": [
        "#integer indexing ITS JUST WORK ON POSITIVE\n",
        "x=pd.Series([13,13,14,15,79,56])\n",
        "x[0]"
      ],
      "metadata": {
        "colab": {
          "base_uri": "https://localhost:8080/"
        },
        "id": "8lL_OOKUA5Gn",
        "outputId": "e991d6b1-e4ce-4fc7-b822-811c6a565796"
      },
      "execution_count": 86,
      "outputs": [
        {
          "output_type": "execute_result",
          "data": {
            "text/plain": [
              "np.int64(13)"
            ]
          },
          "metadata": {},
          "execution_count": 86
        }
      ]
    },
    {
      "cell_type": "code",
      "source": [
        "#SILICING\n",
        "vk[5:16]"
      ],
      "metadata": {
        "colab": {
          "base_uri": "https://localhost:8080/",
          "height": 460
        },
        "id": "_5lWU66fCcBw",
        "outputId": "58a8808e-7bed-4f59-e747-ec778afa6571"
      },
      "execution_count": 95,
      "outputs": [
        {
          "output_type": "execute_result",
          "data": {
            "text/plain": [
              "match_no\n",
              "6      9\n",
              "7     34\n",
              "8      0\n",
              "9     21\n",
              "10     3\n",
              "11    10\n",
              "12    38\n",
              "13     3\n",
              "14    11\n",
              "15    50\n",
              "16     2\n",
              "Name: runs, dtype: int64"
            ],
            "text/html": [
              "<div>\n",
              "<style scoped>\n",
              "    .dataframe tbody tr th:only-of-type {\n",
              "        vertical-align: middle;\n",
              "    }\n",
              "\n",
              "    .dataframe tbody tr th {\n",
              "        vertical-align: top;\n",
              "    }\n",
              "\n",
              "    .dataframe thead th {\n",
              "        text-align: right;\n",
              "    }\n",
              "</style>\n",
              "<table border=\"1\" class=\"dataframe\">\n",
              "  <thead>\n",
              "    <tr style=\"text-align: right;\">\n",
              "      <th></th>\n",
              "      <th>runs</th>\n",
              "    </tr>\n",
              "    <tr>\n",
              "      <th>match_no</th>\n",
              "      <th></th>\n",
              "    </tr>\n",
              "  </thead>\n",
              "  <tbody>\n",
              "    <tr>\n",
              "      <th>6</th>\n",
              "      <td>9</td>\n",
              "    </tr>\n",
              "    <tr>\n",
              "      <th>7</th>\n",
              "      <td>34</td>\n",
              "    </tr>\n",
              "    <tr>\n",
              "      <th>8</th>\n",
              "      <td>0</td>\n",
              "    </tr>\n",
              "    <tr>\n",
              "      <th>9</th>\n",
              "      <td>21</td>\n",
              "    </tr>\n",
              "    <tr>\n",
              "      <th>10</th>\n",
              "      <td>3</td>\n",
              "    </tr>\n",
              "    <tr>\n",
              "      <th>11</th>\n",
              "      <td>10</td>\n",
              "    </tr>\n",
              "    <tr>\n",
              "      <th>12</th>\n",
              "      <td>38</td>\n",
              "    </tr>\n",
              "    <tr>\n",
              "      <th>13</th>\n",
              "      <td>3</td>\n",
              "    </tr>\n",
              "    <tr>\n",
              "      <th>14</th>\n",
              "      <td>11</td>\n",
              "    </tr>\n",
              "    <tr>\n",
              "      <th>15</th>\n",
              "      <td>50</td>\n",
              "    </tr>\n",
              "    <tr>\n",
              "      <th>16</th>\n",
              "      <td>2</td>\n",
              "    </tr>\n",
              "  </tbody>\n",
              "</table>\n",
              "</div><br><label><b>dtype:</b> int64</label>"
            ]
          },
          "metadata": {},
          "execution_count": 95
        }
      ]
    },
    {
      "cell_type": "code",
      "source": [
        "boll"
      ],
      "metadata": {
        "colab": {
          "base_uri": "https://localhost:8080/",
          "height": 489
        },
        "id": "Biz9lGooCcFU",
        "outputId": "469a7781-f2a8-46ba-e6a7-705448a1367c"
      },
      "execution_count": 94,
      "outputs": [
        {
          "output_type": "execute_result",
          "data": {
            "text/plain": [
              "movie\n",
              "Uri: The Surgical Strike                   Vicky Kaushal\n",
              "Battalion 609                                Vicky Ahuja\n",
              "The Accidental Prime Minister (film)         Anupam Kher\n",
              "Why Cheat India                            Emraan Hashmi\n",
              "Evening Shadows                         Mona Ambegaonkar\n",
              "                                              ...       \n",
              "Hum Tumhare Hain Sanam                    Shah Rukh Khan\n",
              "Aankhen (2002 film)                     Amitabh Bachchan\n",
              "Saathiya (film)                             Vivek Oberoi\n",
              "Company (film)                                Ajay Devgn\n",
              "Awara Paagal Deewana                        Akshay Kumar\n",
              "Name: lead, Length: 1500, dtype: object"
            ],
            "text/html": [
              "<div>\n",
              "<style scoped>\n",
              "    .dataframe tbody tr th:only-of-type {\n",
              "        vertical-align: middle;\n",
              "    }\n",
              "\n",
              "    .dataframe tbody tr th {\n",
              "        vertical-align: top;\n",
              "    }\n",
              "\n",
              "    .dataframe thead th {\n",
              "        text-align: right;\n",
              "    }\n",
              "</style>\n",
              "<table border=\"1\" class=\"dataframe\">\n",
              "  <thead>\n",
              "    <tr style=\"text-align: right;\">\n",
              "      <th></th>\n",
              "      <th>lead</th>\n",
              "    </tr>\n",
              "    <tr>\n",
              "      <th>movie</th>\n",
              "      <th></th>\n",
              "    </tr>\n",
              "  </thead>\n",
              "  <tbody>\n",
              "    <tr>\n",
              "      <th>Uri: The Surgical Strike</th>\n",
              "      <td>Vicky Kaushal</td>\n",
              "    </tr>\n",
              "    <tr>\n",
              "      <th>Battalion 609</th>\n",
              "      <td>Vicky Ahuja</td>\n",
              "    </tr>\n",
              "    <tr>\n",
              "      <th>The Accidental Prime Minister (film)</th>\n",
              "      <td>Anupam Kher</td>\n",
              "    </tr>\n",
              "    <tr>\n",
              "      <th>Why Cheat India</th>\n",
              "      <td>Emraan Hashmi</td>\n",
              "    </tr>\n",
              "    <tr>\n",
              "      <th>Evening Shadows</th>\n",
              "      <td>Mona Ambegaonkar</td>\n",
              "    </tr>\n",
              "    <tr>\n",
              "      <th>...</th>\n",
              "      <td>...</td>\n",
              "    </tr>\n",
              "    <tr>\n",
              "      <th>Hum Tumhare Hain Sanam</th>\n",
              "      <td>Shah Rukh Khan</td>\n",
              "    </tr>\n",
              "    <tr>\n",
              "      <th>Aankhen (2002 film)</th>\n",
              "      <td>Amitabh Bachchan</td>\n",
              "    </tr>\n",
              "    <tr>\n",
              "      <th>Saathiya (film)</th>\n",
              "      <td>Vivek Oberoi</td>\n",
              "    </tr>\n",
              "    <tr>\n",
              "      <th>Company (film)</th>\n",
              "      <td>Ajay Devgn</td>\n",
              "    </tr>\n",
              "    <tr>\n",
              "      <th>Awara Paagal Deewana</th>\n",
              "      <td>Akshay Kumar</td>\n",
              "    </tr>\n",
              "  </tbody>\n",
              "</table>\n",
              "<p>1500 rows × 1 columns</p>\n",
              "</div><br><label><b>dtype:</b> object</label>"
            ]
          },
          "metadata": {},
          "execution_count": 94
        }
      ]
    },
    {
      "cell_type": "code",
      "source": [
        "vk[-5:]"
      ],
      "metadata": {
        "colab": {
          "base_uri": "https://localhost:8080/",
          "height": 272
        },
        "id": "6SYXsyLgCcIo",
        "outputId": "fb669787-392f-4920-c21b-64b6f6481ae5"
      },
      "execution_count": 96,
      "outputs": [
        {
          "output_type": "execute_result",
          "data": {
            "text/plain": [
              "match_no\n",
              "211     0\n",
              "212    20\n",
              "213    73\n",
              "214    25\n",
              "215     7\n",
              "Name: runs, dtype: int64"
            ],
            "text/html": [
              "<div>\n",
              "<style scoped>\n",
              "    .dataframe tbody tr th:only-of-type {\n",
              "        vertical-align: middle;\n",
              "    }\n",
              "\n",
              "    .dataframe tbody tr th {\n",
              "        vertical-align: top;\n",
              "    }\n",
              "\n",
              "    .dataframe thead th {\n",
              "        text-align: right;\n",
              "    }\n",
              "</style>\n",
              "<table border=\"1\" class=\"dataframe\">\n",
              "  <thead>\n",
              "    <tr style=\"text-align: right;\">\n",
              "      <th></th>\n",
              "      <th>runs</th>\n",
              "    </tr>\n",
              "    <tr>\n",
              "      <th>match_no</th>\n",
              "      <th></th>\n",
              "    </tr>\n",
              "  </thead>\n",
              "  <tbody>\n",
              "    <tr>\n",
              "      <th>211</th>\n",
              "      <td>0</td>\n",
              "    </tr>\n",
              "    <tr>\n",
              "      <th>212</th>\n",
              "      <td>20</td>\n",
              "    </tr>\n",
              "    <tr>\n",
              "      <th>213</th>\n",
              "      <td>73</td>\n",
              "    </tr>\n",
              "    <tr>\n",
              "      <th>214</th>\n",
              "      <td>25</td>\n",
              "    </tr>\n",
              "    <tr>\n",
              "      <th>215</th>\n",
              "      <td>7</td>\n",
              "    </tr>\n",
              "  </tbody>\n",
              "</table>\n",
              "</div><br><label><b>dtype:</b> int64</label>"
            ]
          },
          "metadata": {},
          "execution_count": 96
        }
      ]
    },
    {
      "cell_type": "code",
      "source": [
        "boll[-5:]"
      ],
      "metadata": {
        "colab": {
          "base_uri": "https://localhost:8080/",
          "height": 272
        },
        "id": "yNLVw7YHGlPF",
        "outputId": "81c821a8-3688-4a9e-e95b-a3a2dc899dd8"
      },
      "execution_count": 97,
      "outputs": [
        {
          "output_type": "execute_result",
          "data": {
            "text/plain": [
              "movie\n",
              "Hum Tumhare Hain Sanam      Shah Rukh Khan\n",
              "Aankhen (2002 film)       Amitabh Bachchan\n",
              "Saathiya (film)               Vivek Oberoi\n",
              "Company (film)                  Ajay Devgn\n",
              "Awara Paagal Deewana          Akshay Kumar\n",
              "Name: lead, dtype: object"
            ],
            "text/html": [
              "<div>\n",
              "<style scoped>\n",
              "    .dataframe tbody tr th:only-of-type {\n",
              "        vertical-align: middle;\n",
              "    }\n",
              "\n",
              "    .dataframe tbody tr th {\n",
              "        vertical-align: top;\n",
              "    }\n",
              "\n",
              "    .dataframe thead th {\n",
              "        text-align: right;\n",
              "    }\n",
              "</style>\n",
              "<table border=\"1\" class=\"dataframe\">\n",
              "  <thead>\n",
              "    <tr style=\"text-align: right;\">\n",
              "      <th></th>\n",
              "      <th>lead</th>\n",
              "    </tr>\n",
              "    <tr>\n",
              "      <th>movie</th>\n",
              "      <th></th>\n",
              "    </tr>\n",
              "  </thead>\n",
              "  <tbody>\n",
              "    <tr>\n",
              "      <th>Hum Tumhare Hain Sanam</th>\n",
              "      <td>Shah Rukh Khan</td>\n",
              "    </tr>\n",
              "    <tr>\n",
              "      <th>Aankhen (2002 film)</th>\n",
              "      <td>Amitabh Bachchan</td>\n",
              "    </tr>\n",
              "    <tr>\n",
              "      <th>Saathiya (film)</th>\n",
              "      <td>Vivek Oberoi</td>\n",
              "    </tr>\n",
              "    <tr>\n",
              "      <th>Company (film)</th>\n",
              "      <td>Ajay Devgn</td>\n",
              "    </tr>\n",
              "    <tr>\n",
              "      <th>Awara Paagal Deewana</th>\n",
              "      <td>Akshay Kumar</td>\n",
              "    </tr>\n",
              "  </tbody>\n",
              "</table>\n",
              "</div><br><label><b>dtype:</b> object</label>"
            ]
          },
          "metadata": {},
          "execution_count": 97
        }
      ]
    },
    {
      "cell_type": "code",
      "source": [
        "vk[[1,3,4,5]]"
      ],
      "metadata": {
        "colab": {
          "base_uri": "https://localhost:8080/",
          "height": 241
        },
        "id": "ZBjDvZEuGr5O",
        "outputId": "1b71f10f-0725-449e-8a78-80f40d6f9207"
      },
      "execution_count": 98,
      "outputs": [
        {
          "output_type": "execute_result",
          "data": {
            "text/plain": [
              "match_no\n",
              "1     1\n",
              "3    13\n",
              "4    12\n",
              "5     1\n",
              "Name: runs, dtype: int64"
            ],
            "text/html": [
              "<div>\n",
              "<style scoped>\n",
              "    .dataframe tbody tr th:only-of-type {\n",
              "        vertical-align: middle;\n",
              "    }\n",
              "\n",
              "    .dataframe tbody tr th {\n",
              "        vertical-align: top;\n",
              "    }\n",
              "\n",
              "    .dataframe thead th {\n",
              "        text-align: right;\n",
              "    }\n",
              "</style>\n",
              "<table border=\"1\" class=\"dataframe\">\n",
              "  <thead>\n",
              "    <tr style=\"text-align: right;\">\n",
              "      <th></th>\n",
              "      <th>runs</th>\n",
              "    </tr>\n",
              "    <tr>\n",
              "      <th>match_no</th>\n",
              "      <th></th>\n",
              "    </tr>\n",
              "  </thead>\n",
              "  <tbody>\n",
              "    <tr>\n",
              "      <th>1</th>\n",
              "      <td>1</td>\n",
              "    </tr>\n",
              "    <tr>\n",
              "      <th>3</th>\n",
              "      <td>13</td>\n",
              "    </tr>\n",
              "    <tr>\n",
              "      <th>4</th>\n",
              "      <td>12</td>\n",
              "    </tr>\n",
              "    <tr>\n",
              "      <th>5</th>\n",
              "      <td>1</td>\n",
              "    </tr>\n",
              "  </tbody>\n",
              "</table>\n",
              "</div><br><label><b>dtype:</b> int64</label>"
            ]
          },
          "metadata": {},
          "execution_count": 98
        }
      ]
    },
    {
      "cell_type": "markdown",
      "source": [
        "editing series"
      ],
      "metadata": {
        "id": "HfM6NF0VKBWd"
      }
    },
    {
      "cell_type": "code",
      "source": [
        "marks_series[1]=100\n",
        "marks_series"
      ],
      "metadata": {
        "colab": {
          "base_uri": "https://localhost:8080/",
          "height": 266
        },
        "id": "OsaHWahcGr9C",
        "outputId": "34c22daa-ab8b-495a-f7e9-f0f5345681f5"
      },
      "execution_count": 99,
      "outputs": [
        {
          "output_type": "stream",
          "name": "stderr",
          "text": [
            "/tmp/ipython-input-170542760.py:1: FutureWarning: Series.__setitem__ treating keys as positions is deprecated. In a future version, integer keys will always be treated as labels (consistent with DataFrame behavior). To set a value by position, use `ser.iloc[pos] = value`\n",
            "  marks_series[1]=100\n"
          ]
        },
        {
          "output_type": "execute_result",
          "data": {
            "text/plain": [
              "maths       90\n",
              "english    100\n",
              "science     70\n",
              "hindi       90\n",
              "Name: FIZA ke marks, dtype: int64"
            ],
            "text/html": [
              "<div>\n",
              "<style scoped>\n",
              "    .dataframe tbody tr th:only-of-type {\n",
              "        vertical-align: middle;\n",
              "    }\n",
              "\n",
              "    .dataframe tbody tr th {\n",
              "        vertical-align: top;\n",
              "    }\n",
              "\n",
              "    .dataframe thead th {\n",
              "        text-align: right;\n",
              "    }\n",
              "</style>\n",
              "<table border=\"1\" class=\"dataframe\">\n",
              "  <thead>\n",
              "    <tr style=\"text-align: right;\">\n",
              "      <th></th>\n",
              "      <th>FIZA ke marks</th>\n",
              "    </tr>\n",
              "  </thead>\n",
              "  <tbody>\n",
              "    <tr>\n",
              "      <th>maths</th>\n",
              "      <td>90</td>\n",
              "    </tr>\n",
              "    <tr>\n",
              "      <th>english</th>\n",
              "      <td>100</td>\n",
              "    </tr>\n",
              "    <tr>\n",
              "      <th>science</th>\n",
              "      <td>70</td>\n",
              "    </tr>\n",
              "    <tr>\n",
              "      <th>hindi</th>\n",
              "      <td>90</td>\n",
              "    </tr>\n",
              "  </tbody>\n",
              "</table>\n",
              "</div><br><label><b>dtype:</b> int64</label>"
            ]
          },
          "metadata": {},
          "execution_count": 99
        }
      ]
    },
    {
      "cell_type": "code",
      "source": [
        "marks_series['social']=90"
      ],
      "metadata": {
        "id": "_uslzDknGlTg"
      },
      "execution_count": 100,
      "outputs": []
    },
    {
      "cell_type": "code",
      "source": [
        "marks_series"
      ],
      "metadata": {
        "colab": {
          "base_uri": "https://localhost:8080/",
          "height": 241
        },
        "id": "31nRIizOGlWz",
        "outputId": "c4c99786-1143-4860-dc26-5833576c5f41"
      },
      "execution_count": 102,
      "outputs": [
        {
          "output_type": "execute_result",
          "data": {
            "text/plain": [
              "maths       90\n",
              "english    100\n",
              "science     70\n",
              "hindi       90\n",
              "social      90\n",
              "Name: FIZA ke marks, dtype: int64"
            ],
            "text/html": [
              "<div>\n",
              "<style scoped>\n",
              "    .dataframe tbody tr th:only-of-type {\n",
              "        vertical-align: middle;\n",
              "    }\n",
              "\n",
              "    .dataframe tbody tr th {\n",
              "        vertical-align: top;\n",
              "    }\n",
              "\n",
              "    .dataframe thead th {\n",
              "        text-align: right;\n",
              "    }\n",
              "</style>\n",
              "<table border=\"1\" class=\"dataframe\">\n",
              "  <thead>\n",
              "    <tr style=\"text-align: right;\">\n",
              "      <th></th>\n",
              "      <th>FIZA ke marks</th>\n",
              "    </tr>\n",
              "  </thead>\n",
              "  <tbody>\n",
              "    <tr>\n",
              "      <th>maths</th>\n",
              "      <td>90</td>\n",
              "    </tr>\n",
              "    <tr>\n",
              "      <th>english</th>\n",
              "      <td>100</td>\n",
              "    </tr>\n",
              "    <tr>\n",
              "      <th>science</th>\n",
              "      <td>70</td>\n",
              "    </tr>\n",
              "    <tr>\n",
              "      <th>hindi</th>\n",
              "      <td>90</td>\n",
              "    </tr>\n",
              "    <tr>\n",
              "      <th>social</th>\n",
              "      <td>90</td>\n",
              "    </tr>\n",
              "  </tbody>\n",
              "</table>\n",
              "</div><br><label><b>dtype:</b> int64</label>"
            ]
          },
          "metadata": {},
          "execution_count": 102
        }
      ]
    },
    {
      "cell_type": "code",
      "source": [
        "# slicing\n",
        "runs_ser[2:4] = [100,100]\n",
        "runs_ser"
      ],
      "metadata": {
        "colab": {
          "base_uri": "https://localhost:8080/",
          "height": 272
        },
        "id": "RBE9xFBZA5OF",
        "outputId": "23a54164-1e29-41ac-d754-6ccef9f9d906"
      },
      "execution_count": 103,
      "outputs": [
        {
          "output_type": "execute_result",
          "data": {
            "text/plain": [
              "0      1\n",
              "1      2\n",
              "2    100\n",
              "3    100\n",
              "4     45\n",
              "5     80\n",
              "dtype: int64"
            ],
            "text/html": [
              "<div>\n",
              "<style scoped>\n",
              "    .dataframe tbody tr th:only-of-type {\n",
              "        vertical-align: middle;\n",
              "    }\n",
              "\n",
              "    .dataframe tbody tr th {\n",
              "        vertical-align: top;\n",
              "    }\n",
              "\n",
              "    .dataframe thead th {\n",
              "        text-align: right;\n",
              "    }\n",
              "</style>\n",
              "<table border=\"1\" class=\"dataframe\">\n",
              "  <thead>\n",
              "    <tr style=\"text-align: right;\">\n",
              "      <th></th>\n",
              "      <th>0</th>\n",
              "    </tr>\n",
              "  </thead>\n",
              "  <tbody>\n",
              "    <tr>\n",
              "      <th>0</th>\n",
              "      <td>1</td>\n",
              "    </tr>\n",
              "    <tr>\n",
              "      <th>1</th>\n",
              "      <td>2</td>\n",
              "    </tr>\n",
              "    <tr>\n",
              "      <th>2</th>\n",
              "      <td>100</td>\n",
              "    </tr>\n",
              "    <tr>\n",
              "      <th>3</th>\n",
              "      <td>100</td>\n",
              "    </tr>\n",
              "    <tr>\n",
              "      <th>4</th>\n",
              "      <td>45</td>\n",
              "    </tr>\n",
              "    <tr>\n",
              "      <th>5</th>\n",
              "      <td>80</td>\n",
              "    </tr>\n",
              "  </tbody>\n",
              "</table>\n",
              "</div><br><label><b>dtype:</b> int64</label>"
            ]
          },
          "metadata": {},
          "execution_count": 103
        }
      ]
    },
    {
      "cell_type": "code",
      "source": [
        "# fancy indexing\n",
        "runs_ser[[0,3,4]] = [0,0,0]\n",
        "runs_ser"
      ],
      "metadata": {
        "colab": {
          "base_uri": "https://localhost:8080/",
          "height": 272
        },
        "id": "PiyNtrQ9A5Zy",
        "outputId": "06c7ef2c-a410-4a39-a7c1-d8405024975c"
      },
      "execution_count": 104,
      "outputs": [
        {
          "output_type": "execute_result",
          "data": {
            "text/plain": [
              "0      0\n",
              "1      2\n",
              "2    100\n",
              "3      0\n",
              "4      0\n",
              "5     80\n",
              "dtype: int64"
            ],
            "text/html": [
              "<div>\n",
              "<style scoped>\n",
              "    .dataframe tbody tr th:only-of-type {\n",
              "        vertical-align: middle;\n",
              "    }\n",
              "\n",
              "    .dataframe tbody tr th {\n",
              "        vertical-align: top;\n",
              "    }\n",
              "\n",
              "    .dataframe thead th {\n",
              "        text-align: right;\n",
              "    }\n",
              "</style>\n",
              "<table border=\"1\" class=\"dataframe\">\n",
              "  <thead>\n",
              "    <tr style=\"text-align: right;\">\n",
              "      <th></th>\n",
              "      <th>0</th>\n",
              "    </tr>\n",
              "  </thead>\n",
              "  <tbody>\n",
              "    <tr>\n",
              "      <th>0</th>\n",
              "      <td>0</td>\n",
              "    </tr>\n",
              "    <tr>\n",
              "      <th>1</th>\n",
              "      <td>2</td>\n",
              "    </tr>\n",
              "    <tr>\n",
              "      <th>2</th>\n",
              "      <td>100</td>\n",
              "    </tr>\n",
              "    <tr>\n",
              "      <th>3</th>\n",
              "      <td>0</td>\n",
              "    </tr>\n",
              "    <tr>\n",
              "      <th>4</th>\n",
              "      <td>0</td>\n",
              "    </tr>\n",
              "    <tr>\n",
              "      <th>5</th>\n",
              "      <td>80</td>\n",
              "    </tr>\n",
              "  </tbody>\n",
              "</table>\n",
              "</div><br><label><b>dtype:</b> int64</label>"
            ]
          },
          "metadata": {},
          "execution_count": 104
        }
      ]
    },
    {
      "cell_type": "code",
      "source": [
        "# using index label\n",
        "boll['2 States (2014 film)'] = 'Alia Bhatt'\n",
        "boll"
      ],
      "metadata": {
        "colab": {
          "base_uri": "https://localhost:8080/",
          "height": 489
        },
        "id": "NQUh4Pd2ArrI",
        "outputId": "d6b4effa-6e10-4dc4-9f2e-82117a0be057"
      },
      "execution_count": 106,
      "outputs": [
        {
          "output_type": "execute_result",
          "data": {
            "text/plain": [
              "movie\n",
              "Uri: The Surgical Strike                   Vicky Kaushal\n",
              "Battalion 609                                Vicky Ahuja\n",
              "The Accidental Prime Minister (film)         Anupam Kher\n",
              "Why Cheat India                            Emraan Hashmi\n",
              "Evening Shadows                         Mona Ambegaonkar\n",
              "                                              ...       \n",
              "Hum Tumhare Hain Sanam                    Shah Rukh Khan\n",
              "Aankhen (2002 film)                     Amitabh Bachchan\n",
              "Saathiya (film)                             Vivek Oberoi\n",
              "Company (film)                                Ajay Devgn\n",
              "Awara Paagal Deewana                        Akshay Kumar\n",
              "Name: lead, Length: 1500, dtype: object"
            ],
            "text/html": [
              "<div>\n",
              "<style scoped>\n",
              "    .dataframe tbody tr th:only-of-type {\n",
              "        vertical-align: middle;\n",
              "    }\n",
              "\n",
              "    .dataframe tbody tr th {\n",
              "        vertical-align: top;\n",
              "    }\n",
              "\n",
              "    .dataframe thead th {\n",
              "        text-align: right;\n",
              "    }\n",
              "</style>\n",
              "<table border=\"1\" class=\"dataframe\">\n",
              "  <thead>\n",
              "    <tr style=\"text-align: right;\">\n",
              "      <th></th>\n",
              "      <th>lead</th>\n",
              "    </tr>\n",
              "    <tr>\n",
              "      <th>movie</th>\n",
              "      <th></th>\n",
              "    </tr>\n",
              "  </thead>\n",
              "  <tbody>\n",
              "    <tr>\n",
              "      <th>Uri: The Surgical Strike</th>\n",
              "      <td>Vicky Kaushal</td>\n",
              "    </tr>\n",
              "    <tr>\n",
              "      <th>Battalion 609</th>\n",
              "      <td>Vicky Ahuja</td>\n",
              "    </tr>\n",
              "    <tr>\n",
              "      <th>The Accidental Prime Minister (film)</th>\n",
              "      <td>Anupam Kher</td>\n",
              "    </tr>\n",
              "    <tr>\n",
              "      <th>Why Cheat India</th>\n",
              "      <td>Emraan Hashmi</td>\n",
              "    </tr>\n",
              "    <tr>\n",
              "      <th>Evening Shadows</th>\n",
              "      <td>Mona Ambegaonkar</td>\n",
              "    </tr>\n",
              "    <tr>\n",
              "      <th>...</th>\n",
              "      <td>...</td>\n",
              "    </tr>\n",
              "    <tr>\n",
              "      <th>Hum Tumhare Hain Sanam</th>\n",
              "      <td>Shah Rukh Khan</td>\n",
              "    </tr>\n",
              "    <tr>\n",
              "      <th>Aankhen (2002 film)</th>\n",
              "      <td>Amitabh Bachchan</td>\n",
              "    </tr>\n",
              "    <tr>\n",
              "      <th>Saathiya (film)</th>\n",
              "      <td>Vivek Oberoi</td>\n",
              "    </tr>\n",
              "    <tr>\n",
              "      <th>Company (film)</th>\n",
              "      <td>Ajay Devgn</td>\n",
              "    </tr>\n",
              "    <tr>\n",
              "      <th>Awara Paagal Deewana</th>\n",
              "      <td>Akshay Kumar</td>\n",
              "    </tr>\n",
              "  </tbody>\n",
              "</table>\n",
              "<p>1500 rows × 1 columns</p>\n",
              "</div><br><label><b>dtype:</b> object</label>"
            ]
          },
          "metadata": {},
          "execution_count": 106
        }
      ]
    },
    {
      "cell_type": "markdown",
      "source": [
        "series with ppython functionalites"
      ],
      "metadata": {
        "id": "TXfdEVvjLqi_"
      }
    },
    {
      "cell_type": "code",
      "source": [
        "print(len(subs))\n",
        "print(type(subs))\n",
        "print(dir(subs))\n",
        "print(sorted(subs))\n",
        "print(min(subs))\n",
        "print(max(subs))"
      ],
      "metadata": {
        "colab": {
          "base_uri": "https://localhost:8080/"
        },
        "id": "uRF5Sf_ULvI0",
        "outputId": "4931c020-3350-4492-fddc-eb0a6af6a09c"
      },
      "execution_count": 107,
      "outputs": [
        {
          "output_type": "stream",
          "name": "stdout",
          "text": [
            "365\n",
            "<class 'pandas.core.frame.DataFrame'>\n",
            "['T', '_AXIS_LEN', '_AXIS_ORDERS', '_AXIS_TO_AXIS_NUMBER', '_HANDLED_TYPES', '__abs__', '__add__', '__and__', '__annotations__', '__array__', '__array_priority__', '__array_ufunc__', '__arrow_c_stream__', '__bool__', '__class__', '__contains__', '__copy__', '__dataframe__', '__dataframe_consortium_standard__', '__deepcopy__', '__delattr__', '__delitem__', '__dict__', '__dir__', '__divmod__', '__doc__', '__eq__', '__finalize__', '__floordiv__', '__format__', '__ge__', '__getattr__', '__getattribute__', '__getitem__', '__getstate__', '__gt__', '__hash__', '__iadd__', '__iand__', '__ifloordiv__', '__imod__', '__imul__', '__init__', '__init_subclass__', '__invert__', '__ior__', '__ipow__', '__isub__', '__iter__', '__itruediv__', '__ixor__', '__le__', '__len__', '__lt__', '__matmul__', '__mod__', '__module__', '__mul__', '__ne__', '__neg__', '__new__', '__nonzero__', '__or__', '__pandas_priority__', '__pos__', '__pow__', '__radd__', '__rand__', '__rdivmod__', '__reduce__', '__reduce_ex__', '__repr__', '__rfloordiv__', '__rmatmul__', '__rmod__', '__rmul__', '__ror__', '__round__', '__rpow__', '__rsub__', '__rtruediv__', '__rxor__', '__setattr__', '__setitem__', '__setstate__', '__sizeof__', '__str__', '__sub__', '__subclasshook__', '__truediv__', '__weakref__', '__xor__', '_accessors', '_accum_func', '_agg_examples_doc', '_agg_see_also_doc', '_align_for_op', '_align_frame', '_align_series', '_append', '_arith_method', '_arith_method_with_reindex', '_as_manager', '_attrs', '_box_col_values', '_can_fast_transpose', '_check_inplace_and_allows_duplicate_labels', '_check_is_chained_assignment_possible', '_check_label_or_level_ambiguity', '_check_setitem_copy', '_clear_item_cache', '_clip_with_one_bound', '_clip_with_scalar', '_cmp_method', '_combine_frame', '_consolidate', '_consolidate_inplace', '_construct_axes_dict', '_construct_result', '_constructor', '_constructor_from_mgr', '_constructor_sliced', '_constructor_sliced_from_mgr', '_create_data_for_split_and_tight_to_dict', '_data', '_deprecate_downcast', '_dir_additions', '_dir_deletions', '_dispatch_frame_op', '_drop_axis', '_drop_labels_or_levels', '_ensure_valid_index', '_find_valid_index', '_flags', '_flex_arith_method', '_flex_cmp_method', '_from_arrays', '_from_mgr', '_get_agg_axis', '_get_axis', '_get_axis_name', '_get_axis_number', '_get_axis_resolvers', '_get_block_manager_axis', '_get_bool_data', '_get_cleaned_column_resolvers', '_get_column_array', '_get_index_resolvers', '_get_item_cache', '_get_label_or_level_values', '_get_numeric_data', '_get_value', '_get_values_for_csv', '_getitem_bool_array', '_getitem_multilevel', '_getitem_nocopy', '_getitem_slice', '_gotitem', '_hidden_attrs', '_indexed_same', '_info_axis', '_info_axis_name', '_info_axis_number', '_info_repr', '_init_mgr', '_inplace_method', '_internal_names', '_internal_names_set', '_is_copy', '_is_homogeneous_type', '_is_label_or_level_reference', '_is_label_reference', '_is_level_reference', '_is_mixed_type', '_is_view', '_is_view_after_cow_rules', '_iset_item', '_iset_item_mgr', '_iset_not_inplace', '_item_cache', '_iter_column_arrays', '_ixs', '_logical_func', '_logical_method', '_maybe_align_series_as_frame', '_maybe_cache_changed', '_maybe_update_cacher', '_metadata', '_mgr', '_min_count_stat_function', '_needs_reindex_multi', '_pad_or_backfill', '_protect_consolidate', '_reduce', '_reduce_axis1', '_reindex_axes', '_reindex_multi', '_reindex_with_indexers', '_rename', '_replace_columnwise', '_repr_data_resource_', '_repr_fits_horizontal_', '_repr_fits_vertical_', '_repr_html_', '_repr_latex_', '_reset_cache', '_reset_cacher', '_sanitize_column', '_series', '_set_axis', '_set_axis_name', '_set_axis_nocheck', '_set_is_copy', '_set_item', '_set_item_frame_value', '_set_item_mgr', '_set_value', '_setitem_array', '_setitem_frame', '_setitem_slice', '_shift_with_freq', '_should_reindex_frame_op', '_slice', '_stat_function', '_stat_function_ddof', '_take_with_is_copy', '_to_dict_of_blocks', '_to_latex_via_styler', '_typ', '_update_inplace', '_validate_dtype', '_values', '_where', 'abs', 'add', 'add_prefix', 'add_suffix', 'agg', 'aggregate', 'align', 'all', 'any', 'apply', 'applymap', 'asfreq', 'asof', 'assign', 'astype', 'at', 'at_time', 'attrs', 'axes', 'backfill', 'between_time', 'bfill', 'bool', 'boxplot', 'clip', 'columns', 'combine', 'combine_first', 'compare', 'convert_dtypes', 'copy', 'corr', 'corrwith', 'count', 'cov', 'cummax', 'cummin', 'cumprod', 'cumsum', 'describe', 'diff', 'div', 'divide', 'dot', 'drop', 'drop_duplicates', 'droplevel', 'dropna', 'dtypes', 'duplicated', 'empty', 'eq', 'equals', 'eval', 'ewm', 'expanding', 'explode', 'ffill', 'fillna', 'filter', 'first', 'first_valid_index', 'flags', 'floordiv', 'from_dict', 'from_records', 'ge', 'get', 'groupby', 'gt', 'head', 'hist', 'iat', 'idxmax', 'idxmin', 'iloc', 'index', 'infer_objects', 'info', 'insert', 'interpolate', 'isetitem', 'isin', 'isna', 'isnull', 'items', 'iterrows', 'itertuples', 'join', 'keys', 'kurt', 'kurtosis', 'last', 'last_valid_index', 'le', 'loc', 'lt', 'map', 'mask', 'max', 'mean', 'median', 'melt', 'memory_usage', 'merge', 'min', 'mod', 'mode', 'mul', 'multiply', 'ndim', 'ne', 'nlargest', 'notna', 'notnull', 'nsmallest', 'nunique', 'pad', 'pct_change', 'pipe', 'pivot', 'pivot_table', 'plot', 'pop', 'pow', 'prod', 'product', 'quantile', 'query', 'radd', 'rank', 'rdiv', 'reindex', 'reindex_like', 'rename', 'rename_axis', 'reorder_levels', 'replace', 'resample', 'reset_index', 'rfloordiv', 'rmod', 'rmul', 'rolling', 'round', 'rpow', 'rsub', 'rtruediv', 'sample', 'select_dtypes', 'sem', 'set_axis', 'set_flags', 'set_geometry', 'set_index', 'shape', 'shift', 'size', 'skew', 'sort_index', 'sort_values', 'squeeze', 'stack', 'std', 'style', 'sub', 'subtract', 'sum', 'swapaxes', 'swaplevel', 'tail', 'take', 'to_clipboard', 'to_csv', 'to_dict', 'to_excel', 'to_feather', 'to_gbq', 'to_hdf', 'to_html', 'to_json', 'to_latex', 'to_markdown', 'to_numpy', 'to_orc', 'to_parquet', 'to_period', 'to_pickle', 'to_records', 'to_sql', 'to_stata', 'to_string', 'to_timestamp', 'to_xarray', 'to_xml', 'transform', 'transpose', 'truediv', 'truncate', 'tz_convert', 'tz_localize', 'unstack', 'update', 'value_counts', 'values', 'var', 'where', 'xs']\n",
            "['Subscribers gained']\n",
            "Subscribers gained\n",
            "Subscribers gained\n"
          ]
        }
      ]
    },
    {
      "cell_type": "code",
      "source": [
        "print(len(subs))"
      ],
      "metadata": {
        "colab": {
          "base_uri": "https://localhost:8080/"
        },
        "id": "aYgWojf9LvPn",
        "outputId": "4b811aa4-7d29-4bb9-cd9a-2819b3cde87f"
      },
      "execution_count": 108,
      "outputs": [
        {
          "output_type": "stream",
          "name": "stdout",
          "text": [
            "365\n"
          ]
        }
      ]
    },
    {
      "cell_type": "code",
      "source": [
        "#type conversion\n",
        "list(marks_series)"
      ],
      "metadata": {
        "colab": {
          "base_uri": "https://localhost:8080/"
        },
        "id": "PTKU0PExMBnp",
        "outputId": "58df0da5-8b1f-4a60-9d6c-d7824a6489e5"
      },
      "execution_count": 110,
      "outputs": [
        {
          "output_type": "execute_result",
          "data": {
            "text/plain": [
              "[90, 100, 70, 90, 90]"
            ]
          },
          "metadata": {},
          "execution_count": 110
        }
      ]
    },
    {
      "cell_type": "code",
      "source": [
        "dict(marks_series)"
      ],
      "metadata": {
        "colab": {
          "base_uri": "https://localhost:8080/"
        },
        "id": "uda5lQJ_LvTg",
        "outputId": "5ed19a43-2a28-4123-c750-b7c2726cd74d"
      },
      "execution_count": 111,
      "outputs": [
        {
          "output_type": "execute_result",
          "data": {
            "text/plain": [
              "{'maths': np.int64(90),\n",
              " 'english': np.int64(100),\n",
              " 'science': np.int64(70),\n",
              " 'hindi': np.int64(90),\n",
              " 'social': np.int64(90)}"
            ]
          },
          "metadata": {},
          "execution_count": 111
        }
      ]
    },
    {
      "cell_type": "code",
      "source": [
        "#membership operator\n",
        "'2 States (2014 film)' in boll"
      ],
      "metadata": {
        "colab": {
          "base_uri": "https://localhost:8080/"
        },
        "id": "qkdoPCflLvXS",
        "outputId": "6fcb3327-7442-464b-d6d1-090902337dc6"
      },
      "execution_count": 112,
      "outputs": [
        {
          "output_type": "execute_result",
          "data": {
            "text/plain": [
              "True"
            ]
          },
          "metadata": {},
          "execution_count": 112
        }
      ]
    },
    {
      "cell_type": "code",
      "source": [
        "'Alia Bhatt' in boll.values"
      ],
      "metadata": {
        "colab": {
          "base_uri": "https://localhost:8080/"
        },
        "id": "Y9swE66kMkT6",
        "outputId": "6b506f6d-f52c-44d4-d203-1dc4e257fbf8"
      },
      "execution_count": 114,
      "outputs": [
        {
          "output_type": "execute_result",
          "data": {
            "text/plain": [
              "True"
            ]
          },
          "metadata": {},
          "execution_count": 114
        }
      ]
    },
    {
      "cell_type": "code",
      "source": [
        "boll"
      ],
      "metadata": {
        "colab": {
          "base_uri": "https://localhost:8080/",
          "height": 489
        },
        "id": "4GgxzRULMfEb",
        "outputId": "b1f15ed4-25a6-406a-9cfd-e88af8366e96"
      },
      "execution_count": 113,
      "outputs": [
        {
          "output_type": "execute_result",
          "data": {
            "text/plain": [
              "movie\n",
              "Uri: The Surgical Strike                   Vicky Kaushal\n",
              "Battalion 609                                Vicky Ahuja\n",
              "The Accidental Prime Minister (film)         Anupam Kher\n",
              "Why Cheat India                            Emraan Hashmi\n",
              "Evening Shadows                         Mona Ambegaonkar\n",
              "                                              ...       \n",
              "Hum Tumhare Hain Sanam                    Shah Rukh Khan\n",
              "Aankhen (2002 film)                     Amitabh Bachchan\n",
              "Saathiya (film)                             Vivek Oberoi\n",
              "Company (film)                                Ajay Devgn\n",
              "Awara Paagal Deewana                        Akshay Kumar\n",
              "Name: lead, Length: 1500, dtype: object"
            ],
            "text/html": [
              "<div>\n",
              "<style scoped>\n",
              "    .dataframe tbody tr th:only-of-type {\n",
              "        vertical-align: middle;\n",
              "    }\n",
              "\n",
              "    .dataframe tbody tr th {\n",
              "        vertical-align: top;\n",
              "    }\n",
              "\n",
              "    .dataframe thead th {\n",
              "        text-align: right;\n",
              "    }\n",
              "</style>\n",
              "<table border=\"1\" class=\"dataframe\">\n",
              "  <thead>\n",
              "    <tr style=\"text-align: right;\">\n",
              "      <th></th>\n",
              "      <th>lead</th>\n",
              "    </tr>\n",
              "    <tr>\n",
              "      <th>movie</th>\n",
              "      <th></th>\n",
              "    </tr>\n",
              "  </thead>\n",
              "  <tbody>\n",
              "    <tr>\n",
              "      <th>Uri: The Surgical Strike</th>\n",
              "      <td>Vicky Kaushal</td>\n",
              "    </tr>\n",
              "    <tr>\n",
              "      <th>Battalion 609</th>\n",
              "      <td>Vicky Ahuja</td>\n",
              "    </tr>\n",
              "    <tr>\n",
              "      <th>The Accidental Prime Minister (film)</th>\n",
              "      <td>Anupam Kher</td>\n",
              "    </tr>\n",
              "    <tr>\n",
              "      <th>Why Cheat India</th>\n",
              "      <td>Emraan Hashmi</td>\n",
              "    </tr>\n",
              "    <tr>\n",
              "      <th>Evening Shadows</th>\n",
              "      <td>Mona Ambegaonkar</td>\n",
              "    </tr>\n",
              "    <tr>\n",
              "      <th>...</th>\n",
              "      <td>...</td>\n",
              "    </tr>\n",
              "    <tr>\n",
              "      <th>Hum Tumhare Hain Sanam</th>\n",
              "      <td>Shah Rukh Khan</td>\n",
              "    </tr>\n",
              "    <tr>\n",
              "      <th>Aankhen (2002 film)</th>\n",
              "      <td>Amitabh Bachchan</td>\n",
              "    </tr>\n",
              "    <tr>\n",
              "      <th>Saathiya (film)</th>\n",
              "      <td>Vivek Oberoi</td>\n",
              "    </tr>\n",
              "    <tr>\n",
              "      <th>Company (film)</th>\n",
              "      <td>Ajay Devgn</td>\n",
              "    </tr>\n",
              "    <tr>\n",
              "      <th>Awara Paagal Deewana</th>\n",
              "      <td>Akshay Kumar</td>\n",
              "    </tr>\n",
              "  </tbody>\n",
              "</table>\n",
              "<p>1500 rows × 1 columns</p>\n",
              "</div><br><label><b>dtype:</b> object</label>"
            ]
          },
          "metadata": {},
          "execution_count": 113
        }
      ]
    },
    {
      "cell_type": "code",
      "source": [
        "for i in boll.index:\n",
        "  print(i)\n"
      ],
      "metadata": {
        "colab": {
          "base_uri": "https://localhost:8080/"
        },
        "id": "GozmxaxWMfLp",
        "outputId": "38795a9b-0a58-4b4d-e35b-11b9f27722d8"
      },
      "execution_count": 115,
      "outputs": [
        {
          "output_type": "stream",
          "name": "stdout",
          "text": [
            "Uri: The Surgical Strike\n",
            "Battalion 609\n",
            "The Accidental Prime Minister (film)\n",
            "Why Cheat India\n",
            "Evening Shadows\n",
            "Soni (film)\n",
            "Fraud Saiyaan\n",
            "Bombairiya\n",
            "Manikarnika: The Queen of Jhansi\n",
            "Thackeray (film)\n",
            "Amavas\n",
            "Gully Boy\n",
            "Hum Chaar\n",
            "Total Dhamaal\n",
            "Sonchiriya\n",
            "Badla (2019 film)\n",
            "Mard Ko Dard Nahi Hota\n",
            "Hamid (film)\n",
            "Photograph (film)\n",
            "Risknamaa\n",
            "Mere Pyare Prime Minister\n",
            "22 Yards\n",
            "Kesari (film)\n",
            "Notebook (2019 film)\n",
            "Junglee (2019 film)\n",
            "Gone Kesh\n",
            "Albert Pinto Ko Gussa Kyun Aata Hai?\n",
            "The Tashkent Files\n",
            "Kalank\n",
            "Setters (film)\n",
            "Student of the Year 2\n",
            "PM Narendra Modi\n",
            "De De Pyaar De\n",
            "India's Most Wanted (film)\n",
            "Yeh Hai India\n",
            "Khamoshi (2019 film)\n",
            "Kabir Singh\n",
            "Article 15 (film)\n",
            "One Day: Justice Delivered\n",
            "Hume Tumse Pyaar Kitna\n",
            "Super 30 (film)\n",
            "Family of Thakurganj\n",
            "Batla House\n",
            "Jhootha Kahin Ka\n",
            "Judgementall Hai Kya\n",
            "Chicken Curry Law\n",
            "Arjun Patiala\n",
            "Jabariya Jodi\n",
            "Pranaam\n",
            "The Sky Is Pink\n",
            "Mission Mangal\n",
            "Saaho\n",
            "Dream Girl (2019 film)\n",
            "Section 375\n",
            "The Zoya Factor (film)\n",
            "Pal Pal Dil Ke Paas\n",
            "Prassthanam\n",
            "P Se Pyaar F Se Faraar\n",
            "Ghost (2019 film)\n",
            "Bala (2019 film)\n",
            "Yaaram (2019 film)\n",
            "Housefull 4\n",
            "Saand Ki Aankh\n",
            "Made in China (2019 film)\n",
            "Ujda Chaman\n",
            "Bypass Road (film)\n",
            "Satellite Shankar\n",
            "Jhalki\n",
            "Marjaavaan\n",
            "Motichoor Chaknachoor\n",
            "Keep Safe Distance (film)\n",
            "Pagalpanti (2019 film)\n",
            "Ramprasad Ki Tehrvi\n",
            "Yeh Saali Aashiqui\n",
            "Dil Bechara\n",
            "Pati Patni Aur Woh (2019 film)\n",
            "Commando 3 (film)\n",
            "Mardaani 2\n",
            "Dabangg 3\n",
            "Good Newwz\n",
            "Kaalakaandi\n",
            "Vodka Diaries\n",
            "My Birthday Song\n",
            "Nirdosh\n",
            "Mukkabaaz\n",
            "Union Leader (film)\n",
            "Love per Square Foot\n",
            "Aiyaary\n",
            "Padmaavat\n",
            "Kuchh Bheege Alfaaz\n",
            "Jaane Kyun De Yaaron\n",
            "Veerey Ki Wedding\n",
            "Sonu Ke Titu Ki Sweety\n",
            "Hate Story 4\n",
            "Dil Juunglee\n",
            "3 Storeys\n",
            "Raid (2018 film)\n",
            "Hichki\n",
            "Missing (2018 film)\n",
            "Baaghi 2\n",
            "October (2018 film)\n",
            "Mercury (film)\n",
            "Beyond the Clouds (2017 film)\n",
            "Nanu Ki Jaanu\n",
            "Daas Dev\n",
            "Omerta (film)\n",
            "Raazi\n",
            "Hope Aur Hum\n",
            "High Jack (film)\n",
            "Khajoor Pe Atke\n",
            "Parmanu: The Story of Pokhran\n",
            "Bioscopewala\n",
            "Bhavesh Joshi Superhero\n",
            "Phamous\n",
            "Race 3\n",
            "Dhadak\n",
            "Sanju\n",
            "Saheb Biwi Aur Gangster 3\n",
            "Nawabzaade\n",
            "Mulk (film)\n",
            "Brij Mohan Amar Rahe\n",
            "Karwaan\n",
            "Gold (2018 film)\n",
            "Satyameva Jayate (2018 film)\n",
            "Happy Phirr Bhag Jayegi\n",
            "Genius (2018 Hindi film)\n",
            "Yamla Pagla Deewana: Phir Se\n",
            "Stree (2018 film)\n",
            "Paltan (film)\n",
            "Laila Majnu (2018 film)\n",
            "Gali Guleiyan\n",
            "Halkaa\n",
            "Pataakha\n",
            "Batti Gul Meter Chalu\n",
            "Love Sonia\n",
            "Manto (2018 film)\n",
            "Ishqeria\n",
            "Manmarziyaan\n",
            "Mitron\n",
            "Sui Dhaaga\n",
            "Baazaar\n",
            "Jalebi (film)\n",
            "FryDay\n",
            "Tumbbad\n",
            "Helicopter Eela\n",
            "Namaste England\n",
            "Andhadhun\n",
            "Badhaai Ho\n",
            "5 Weddings\n",
            "Kaashi in Search of Ganga\n",
            "Dassehra\n",
            "The Journey of Karma\n",
            "Jack and Dil\n",
            "Mohalla Assi\n",
            "Pihu\n",
            "Bhaiaji Superhit\n",
            "Rajma Chawal\n",
            "Zero (2018 film)\n",
            "Simmba\n",
            "Tiger Zinda Hai\n",
            "Golmaal Again\n",
            "Judwaa 2\n",
            "Ok Jaanu\n",
            "Coffee with D\n",
            "Kaabil\n",
            "Raees (film)\n",
            "Thugs of Hindostan\n",
            "Hind Ka Napak Ko Jawab: MSG Lion Heart 2\n",
            "Running Shaadi\n",
            "The Ghazi Attack\n",
            "Irada (2017 film)\n",
            "Rangoon (2017 Hindi film)\n",
            "Wedding Anniversary\n",
            "Jeena Isi Ka Naam Hai (film)\n",
            "Badrinath Ki Dulhania\n",
            "Trapped (2016 Hindi film)\n",
            "Aa Gaya Hero\n",
            "Mantra (2016 film)\n",
            "Phillauri (film)\n",
            "Machine (2017 film)\n",
            "Bhanwarey\n",
            "Anaarkali of Aarah\n",
            "Naam Shabana\n",
            "Hotel Salvation\n",
            "Begum Jaan\n",
            "Noor (film)\n",
            "Ek Thi Rani Aisi Bhi\n",
            "Maatr\n",
            "Sarkar 3\n",
            "Jattu Engineer\n",
            "Half Girlfriend (film)\n",
            "Meri Pyaari Bindu\n",
            "Sachin: A Billion Dreams\n",
            "Hindi Medium\n",
            "Sweetiee Weds NRI\n",
            "Dobaara: See Your Evil\n",
            "Flat 211\n",
            "Dear Maya\n",
            "Raabta (film)\n",
            "Behen Hogi Teri\n",
            "Tubelight (2017 Hindi film)\n",
            "Bank Chor\n",
            "Ek Haseena Thi Ek Deewana Tha\n",
            "Jagga Jasoos\n",
            "Shab (film)\n",
            "Lipstick Under My Burkha\n",
            "Bachche Kachche Sachche\n",
            "G Kutta Se\n",
            "Indu Sarkar\n",
            "Jab Harry Met Sejal\n",
            "Munna Michael\n",
            "Toilet: Ek Prem Katha\n",
            "Mubarakan\n",
            "Guest iin London\n",
            "Bareilly Ki Barfi\n",
            "Babumoshai Bandookbaaz\n",
            "Yadvi – The Dignified Princess\n",
            "Qaidi Band\n",
            "Shubh Mangal Saavdhan\n",
            "Raag Desh (film)\n",
            "Daddy (2017 film)\n",
            "Simran (film)\n",
            "Lucknow Central\n",
            "A Gentleman\n",
            "Viceroy's House (film)\n",
            "Patel Ki Punjabi Shaadi\n",
            "Newton (film)\n",
            "The Final Exit\n",
            "Bhoomi (film)\n",
            "Haseena Parkar\n",
            "JD (film)\n",
            "Haraamkhor\n",
            "Poster Boys\n",
            "Mom (film)\n",
            "Chef (2017 film)\n",
            "Ranchi Diaries\n",
            "Babuji Ek Ticket Bambai\n",
            "Rukh (film)\n",
            "Secret Superstar\n",
            "Aval (2017 film)\n",
            "Ribbon (film)\n",
            "Shaadi Mein Zaroor Aana\n",
            "Jia Aur Jia\n",
            "Qarib Qarib Singlle\n",
            "Aksar 2\n",
            "Panchlait\n",
            "Tumhari Sulu\n",
            "Julie 2\n",
            "Kadvi Hawa\n",
            "Firangi\n",
            "Fukrey Returns\n",
            "Monsoon Shootout\n",
            "Ajji\n",
            "Chalk n Duster\n",
            "Rebellious Flower\n",
            "Saankal\n",
            "Airlift (film)\n",
            "Sallu Ki Shaadi\n",
            "Irudhi Suttru\n",
            "Kyaa Kool Hain Hum 3\n",
            "Mastizaade\n",
            "Dil Jo Na Keh Saka\n",
            "Jugni (2016 film)\n",
            "Ghayal: Once Again\n",
            "Fitoor\n",
            "Sanam Re\n",
            "Direct Ishq\n",
            "Ishq Forever\n",
            "Loveshhuda\n",
            "Neerja\n",
            "Aligarh (film)\n",
            "Bollywood Diaries\n",
            "Love Shagun\n",
            "Tere Bin Laden: Dead or Alive\n",
            "Jai Gangaajal\n",
            "Kapoor & Sons\n",
            "Rocky Handsome\n",
            "Love Games (film)\n",
            "Fan (film)\n",
            "Nil Battey Sannata\n",
            "Laal Rang\n",
            "Baaghi (2016 film)\n",
            "Global Baba\n",
            "Shortcut Safari\n",
            "The Blueberry Hunt\n",
            "Santa Banta Pvt Ltd\n",
            "Traffic (2016 film)\n",
            "1920: London\n",
            "Azhar (film)\n",
            "Buddha in a Traffic Jam\n",
            "Murari the Mad Gentleman\n",
            "Dear Dad (film)\n",
            "Phobia (2016 film)\n",
            "Sarbjit (film)\n",
            "Veerappan (2016 film)\n",
            "Do Lafzon Ki Kahani (film)\n",
            "Te3n\n",
            "Udta Punjab\n",
            "Khel Toh Ab Shuru Hoga\n",
            "Luv U Alia\n",
            "7 Hours to Go\n",
            "Raman Raghav 2.0\n",
            "Junooniyat\n",
            "Rough Book\n",
            "Dhanak\n",
            "Fredrick (film)\n",
            "Dil Toh Deewana Hai\n",
            "Sultan (2016 film)\n",
            "Brahman Naman\n",
            "Great Grand Masti\n",
            "Waiting (2015 film)\n",
            "Ishq Click\n",
            "M Cream\n",
            "Madaari\n",
            "Dishoom\n",
            "Fever (2016 film)\n",
            "Rustom (film)\n",
            "Hai Apna Dil Toh Awara\n",
            "Mohenjo Daro (film)\n",
            "Happy Bhag Jayegi\n",
            "Waarrior Savitri\n",
            "A Flying Jatt\n",
            "Baar Baar Dekho\n",
            "Freaky Ali\n",
            "Raaz: Reboot\n",
            "Pink (2016 film)\n",
            "Parched\n",
            "Banjo (2016 film)\n",
            "Days of Tafree\n",
            "Wah Taj\n",
            "Island City (2015 film)\n",
            "Ek Kahani Julie Ki\n",
            "M.S. Dhoni: The Untold Story\n",
            "MSG: The Warrior Lion Heart\n",
            "Devi (2016 film)\n",
            "Motu Patlu: King of Kings\n",
            "Anna (2016 film)\n",
            "Fuddu\n",
            "Saat Uchakkey\n",
            "Beiimaan Love\n",
            "Umrika\n",
            "Shivaay\n",
            "Dongari Ka Raja\n",
            "Ae Dil Hai Mushkil\n",
            "Tum Bin II\n",
            "Rock On 2\n",
            "Force 2\n",
            "Dear Zindagi\n",
            "Befikre\n",
            "Moh Maya Money\n",
            "Shorgul\n",
            "Saansein\n",
            "Ki & Ka\n",
            "Wajah Tum Ho\n",
            "Dangal (film)\n",
            "Mirzya (film)\n",
            "Prem Ratan Dhan Payo\n",
            "Tanu Weds Manu: Returns\n",
            "Tanu Weds Manu: Returns\n",
            "31st October (film)\n",
            "ABCD 2\n",
            "Dilwale (2015 film)\n",
            "Bajrangi Bhaijaan\n",
            "Bajirao Mastani\n",
            "Welcome Back (film)\n",
            "Baby (2015 Hindi film)\n",
            "Singh Is Bliing\n",
            "Gabbar Is Back\n",
            "Gabbar Is Back\n",
            "Mumbai Can Dance Saala\n",
            "Alone (2015 Hindi film)\n",
            "Tevar\n",
            "Sharafat Gayi Tel Lene\n",
            "Dolly Ki Doli\n",
            "Hawaizaada\n",
            "Khamoshiyan\n",
            "Rahasya\n",
            "Jai Jawaan Jai Kisaan (film)\n",
            "Shamitabh\n",
            "Roy (film)\n",
            "Badlapur (film)\n",
            "Crazy Cukkad Family\n",
            "Take It Easy (2015 film)\n",
            "Qissa (film)\n",
            "Ab Tak Chhappan 2\n",
            "Dum Laga Ke Haisha\n",
            "Dirty Politics (film)\n",
            "MSG: The Messenger\n",
            "Badmashiyaan\n",
            "Coffee Bloom\n",
            "Hey Bro\n",
            "NH10 (film)\n",
            "Hunterrr\n",
            "Detective Byomkesh Bakshy!\n",
            "Luckhnowi Ishq\n",
            "Court (film)\n",
            "Margarita with a Straw\n",
            "Ek Paheli Leela\n",
            "Barkhaa\n",
            "Mr. X (2015 film)\n",
            "NH-8 Road to Nidhivan\n",
            "Dilliwali Zaalim Girlfriend\n",
            "Dharam Sankat Mein\n",
            "Kaagaz Ke Fools\n",
            "Kuch Kuch Locha Hai\n",
            "Piku\n",
            "Bombay Velvet\n",
            "I Love Desi\n",
            "Dil Dhadakne Do\n",
            "Welcome 2 Karachi\n",
            "P Se PM Tak\n",
            "Mere Genie Uncle\n",
            "Hamari Adhuri Kahani\n",
            "Miss Tanakpur Haazir Ho\n",
            "Uvaa\n",
            "Ishq Ke Parindey\n",
            "Ishqedarriyaan\n",
            "Sabki Bajegi Band\n",
            "Masaan\n",
            "Guddu Rangeela\n",
            "Bezubaan Ishq\n",
            "Aisa Yeh Jahaan\n",
            "Second Hand Husband\n",
            "I Love NY (2015 film)\n",
            "Main Hoon Part-Time Killer\n",
            "Kaun Kitne Paani Mein\n",
            "Drishyam (2015 film)\n",
            "Bangistan\n",
            "All Is Well (2015 film)\n",
            "Brothers (2015 film)\n",
            "Gour Hari Dastaan\n",
            "Manjhi – The Mountain Man\n",
            "Thoda Lutf Thoda Ishq\n",
            "Phantom (2015 film)\n",
            "Hero (2015 Hindi film)\n",
            "Sorry Daddy\n",
            "Talvar (film)\n",
            "Katti Batti\n",
            "Meeruthiya Gangsters\n",
            "MSG-2 The Messenger\n",
            "Calendar Girls (2015 film)\n",
            "Bhaag Johnny\n",
            "Jazbaa\n",
            "Bumper Draw\n",
            "Chinar Daastaan-E-Ishq\n",
            "Kis Kisko Pyaar Karoon\n",
            "Pyaar Ka Punchnama 2\n",
            "Wedding Pullav\n",
            "Shaandaar\n",
            "Titli (2014 film)\n",
            "Guddu Ki Gun\n",
            "The Silent Heroes\n",
            "Ranbanka\n",
            "Sholay\n",
            "Dedh Ishqiya\n",
            "Karle Pyaar Karle\n",
            "Om-Dar-B-Dar\n",
            "Paranthe Wali Gali\n",
            "Strings of Passion\n",
            "Gunday\n",
            "Jai Ho (film)\n",
            "Hasee Toh Phasee\n",
            "Heartless (2014 film)\n",
            "Ya Rab\n",
            "Darr @ the Mall\n",
            "One by Two (2014 film)\n",
            "Babloo Happy Hai\n",
            "Highway (2014 Hindi film)\n",
            "Gulabi Gang (film)\n",
            "Shaadi Ke Side Effects\n",
            "Gulaab Gang\n",
            "Queen (2014 film)\n",
            "Bewakoofiyaan\n",
            "Total Siyapaa\n",
            "Karar: The Deal\n",
            "Lakshmi (2014 film)\n",
            "Ragini MMS 2\n",
            "Dishkiyaoon\n",
            "Ankhon Dekhi\n",
            "Gang of Ghosts\n",
            "Anuradha (2014 film)\n",
            "W (2014 film)\n",
            "O Teri\n",
            "Honour Killing (film)\n",
            "2 States (2014 film)\n",
            "Jal (film)\n",
            "Bhoothnath Returns\n",
            "Main Tera Hero\n",
            "Lucky Kabootar\n",
            "Station (2014 film)\n",
            "Youngistaan\n",
            "Samrat & Co.\n",
            "Purani Jeans\n",
            "Kya Dilli Kya Lahore\n",
            "Koyelaanchal\n",
            "Manjunath (film)\n",
            "Dekh Tamasha Dekh\n",
            "Mastram\n",
            "The Xposé\n",
            "Children of War (2014 film)\n",
            "Hawaa Hawaai\n",
            "Kahin Hai Mera Pyar\n",
            "Kuku Mathur Ki Jhand Ho Gayi\n",
            "Heropanti\n",
            "CityLights (2014 film)\n",
            "Filmistaan\n",
            "Revolver Rani\n",
            "Kaanchi: The Unbreakable\n",
            "Machhli Jal Ki Rani Hai\n",
            "Khwaabb\n",
            "Yeh Hai Bakrapur\n",
            "Ek Villain\n",
            "Bobby Jasoos\n",
            "Humshakals\n",
            "Humpty Sharma Ki Dulhania\n",
            "Hate Story 2\n",
            "Lekar Hum Deewana Dil\n",
            "Riyasat (film)\n",
            "Amit Sahni Ki List\n",
            "Holiday: A Soldier Is Never Off Duty\n",
            "Fugly (film)\n",
            "Bazaar E Husn\n",
            "Pizza (2014 film)\n",
            "Entertainment (2014 film)\n",
            "Singham Returns\n",
            "Mardaani\n",
            "Raja Natwarlal\n",
            "Mary Kom (film)\n",
            "Creature 3D\n",
            "Finding Fanny\n",
            "Khoobsurat (2014 film)\n",
            "3 A.M. (2014 film)\n",
            "Kick (2014 film)\n",
            "Mad About Dance\n",
            "Mumbhai Connection\n",
            "Life Is Beautiful (2014 film)\n",
            "Desi Kattey\n",
            "Haider (film)\n",
            "Bang Bang!\n",
            "Spark (2014 film)\n",
            "Daawat-e-Ishq\n",
            "Balwinder Singh Famous Ho Gaya\n",
            "Jigariyaa\n",
            "Tamanchey\n",
            "Mumbai 125 KM\n",
            "Meinu Ek Ladki Chaahiye\n",
            "Chaarfutiya Chhokare\n",
            "Sonali Cable\n",
            "Happy New Year (2014 film)\n",
            "Super Nani\n",
            "Ekkees Toppon Ki Salaami\n",
            "Rang Rasiya\n",
            "The Shaukeens\n",
            "Roar: Tigers of the Sundarbans\n",
            "A Decent Arrangement\n",
            "Gollu Aur Pappu\n",
            "Titoo MBA\n",
            "Kill Dil\n",
            "Ungli\n",
            "Happy Ending (film)\n",
            "Zed Plus\n",
            "Zid (2014 film)\n",
            "Action Jackson (2014 film)\n",
            "Bhopal: A Prayer for Rain\n",
            "Mumbai Delhi Mumbai\n",
            "Badlapur Boys\n",
            "Main Aur Mr. Riight\n",
            "Ugly (film)\n",
            "PK (film)\n",
            "Dehraadun Diary\n",
            "Matru Ki Bijlee Ka Mandola\n",
            "Sulemani Keeda\n",
            "Inkaar (2013 film)\n",
            "Gangoobai\n",
            "Akaash Vani\n",
            "Main Krishna Hoon\n",
            "Race 2\n",
            "Bandook\n",
            "Listen... Amaya\n",
            "Special 26\n",
            "Murder 3\n",
            "Zila Ghaziabad\n",
            "Kai Po Che!\n",
            "Bloody Isshq\n",
            "Saare Jahaan Se Mehnga\n",
            "3G (film)\n",
            "Mere Dad Ki Maruti\n",
            "Jolly LLB\n",
            "Saheb Biwi Aur Gangster Returns\n",
            "Mai (2013 film)\n",
            "Vishwaroopam\n",
            "Rangrezz\n",
            "Aashiqui 2\n",
            "Ek Thi Daayan\n",
            "Himmatwala (2013 film)\n",
            "Nautanki Saala!\n",
            "Jayantabhai Ki Luv Story\n",
            "Commando: A One Man Army\n",
            "Bombay Talkies (film)\n",
            "Go Goa Gone\n",
            "Gippi\n",
            "Aurangzeb (film)\n",
            "Ishkq in Paris\n",
            "Zindagi 50-50\n",
            "Yeh Jawaani Hai Deewani\n",
            "Fukrey\n",
            "Chhota Bheem and the Throne of Bali\n",
            "Raanjhanaa\n",
            "Ankur Arora Murder Case\n",
            "Shortcut Romeo\n",
            "Ghanchakkar (film)\n",
            "Hum Hai Raahi Car Ke\n",
            "Policegiri\n",
            "Bhaag Milkha Bhaag\n",
            "Sixteen (2013 Indian film)\n",
            "B.A. Pass\n",
            "Enemmy\n",
            "Issaq\n",
            "Bajatey Raho\n",
            "Luv U Soniyo\n",
            "Nasha (film)\n",
            "Chor Chor Super Chor\n",
            "Calapor (film)\n",
            "Love in Bombay\n",
            "D-Day (2013 film)\n",
            "Siddharth (2013 film)\n",
            "Once Upon ay Time in Mumbai Dobaara!\n",
            "Madras Cafe\n",
            "Satyagraha (film)\n",
            "Shuddh Desi Romance\n",
            "Ramaiya Vastavaiya\n",
            "Chennai Express\n",
            "Grand Masti\n",
            "John Day (film)\n",
            "Horror Story (film)\n",
            "Phata Poster Nikhla Hero\n",
            "Ship of Theseus (film)\n",
            "The Lunchbox\n",
            "Baat Bann Gayi\n",
            "Boss (2013 Hindi film)\n",
            "Shahid (film)\n",
            "Mickey Virus\n",
            "Satya 2\n",
            "Rajjo\n",
            "Maazii\n",
            "Sooper Se Ooper\n",
            "Prague (2013 film)\n",
            "Wake Up India\n",
            "Super Model (film)\n",
            "Gori Tere Pyaar Mein\n",
            "What the Fish\n",
            "Jackpot (2013 film)\n",
            "Table No. 21\n",
            "Bullett Raja\n",
            "Dhoom 3\n",
            "Chashme Baddoor (2013 film)\n",
            "Lootera\n",
            "War Chhod Na Yaar\n",
            "Chaalis Chauraasi\n",
            "Ghost (2012 film)\n",
            "Sadda Adda\n",
            "Singh Saab the Great\n",
            "Goliyon Ki Raasleela Ram-Leela\n",
            "Agneepath (2012 film)\n",
            "Ek Main Aur Ekk Tu\n",
            "Ekk Deewana Tha\n",
            "?: A Question Mark\n",
            "Jodi Breakers\n",
            "Tere Naal Love Ho Gaya\n",
            "Staying Alive (2012 film)\n",
            "Paan Singh Tomar (film)\n",
            "Kahaani\n",
            "Zindagi Tere Naam\n",
            "Agent Vinod (2012 film)\n",
            "Blood Money (2012 film)\n",
            "Bumboo\n",
            "Valentine's Night\n",
            "Married 2 America\n",
            "Chaar Din Ki Chandni\n",
            "Bittoo Boss\n",
            "Vicky Donor\n",
            "Hate Story\n",
            "Tezz\n",
            "Dangerous Ishhq\n",
            "Ishaqzaade\n",
            "Department (film)\n",
            "Fatso!\n",
            "Arjun: The Warrior Prince\n",
            "Life Ki Toh Lag Gayi\n",
            "Shanghai (2012 film)\n",
            "Ferrari Ki Sawaari\n",
            "Teri Meri Kahaani (film)\n",
            "Mr. Bhatti on Chutti\n",
            "Yeh Khula Aasmaan\n",
            "Rakhtbeej\n",
            "Gangs of Wasseypur\n",
            "Gangs of Wasseypur – Part 2\n",
            "Cocktail (2012 film)\n",
            "Gattu\n",
            "Kyaa Super Kool Hain Hum\n",
            "Maximum (film)\n",
            "Paanch Ghantey Mien Paanch Crore\n",
            "Ek Tha Tiger\n",
            "Challo Driver\n",
            "Shirin Farhad Ki Toh Nikal Padi\n",
            "Joker (2012 film)\n",
            "Aalaap (film)\n",
            "Mere Dost Picture Abhi Baki Hai\n",
            "Krishna Aur Kans\n",
            "From Sydney with Love\n",
            "Jalpari: The Desert Mermaid\n",
            "Barfi!\n",
            "Heroine (2012 film)\n",
            "Chal Pichchur Banate Hain\n",
            "Kismat Love Paisa Dilli\n",
            "Jeena Hai Toh Thok Daal\n",
            "OMG – Oh My God!\n",
            "Aiyyaa\n",
            "Chittagong (film)\n",
            "Bhoot Returns\n",
            "Delhi Safari\n",
            "Chakravyuh (2012 film)\n",
            "Student of the Year\n",
            "Ajab Gazabb Love\n",
            "Rush (2012 film)\n",
            "1920: The Evil Returns\n",
            "Sons of Ram\n",
            "Ata Pata Laapata\n",
            "Jab Tak Hai Jaan\n",
            "Talaash: The Answer Lies Within\n",
            "Login (film)\n",
            "Son of Sardaar\n",
            "Cigarette Ki Tarah\n",
            "Dabangg 2\n",
            "Players (2012 film)\n",
            "Housefull 2\n",
            "Bol Bachchan\n",
            "English Vinglish\n",
            "Impatient Vivek\n",
            "Yamla Pagla Deewana\n",
            "Mumbai Mast Kallander\n",
            "Dhobi Ghat (film)\n",
            "Turning 30\n",
            "Hostel (2011 film)\n",
            "Dil Toh Baccha Hai Ji\n",
            "United Six\n",
            "Utt Pataang\n",
            "Patiala House (film)\n",
            "7 Khoon Maaf\n",
            "Tanu Weds Manu\n",
            "F.A.L.T.U\n",
            "Memories in March\n",
            "Thank You (2011 film)\n",
            "Angel (2011 film)\n",
            "Happy Husbands (2011 film)\n",
            "Teen Thay Bhai\n",
            "Dum Maaro Dum (film)\n",
            "Shor in the City\n",
            "Zokkomon\n",
            "Chalo Dilli\n",
            "Aashiqui.in\n",
            "Satrangee Parachute\n",
            "Monica (film)\n",
            "I Am (2010 Indian film)\n",
            "Naughty @ 40\n",
            "Haunted – 3D\n",
            "Love U...Mr. Kalakaar!\n",
            "Ragini MMS\n",
            "Stanley Ka Dabba\n",
            "Shagird (2011 film)\n",
            "404 (film)\n",
            "Shaitan (film)\n",
            "Pyaar Ka Punchnama\n",
            "Bheja Fry 2\n",
            "Always Kabhi Kabhi\n",
            "Double Dhamaal\n",
            "Bbuddah... Hoga Terra Baap\n",
            "Delhi Belly (film)\n",
            "Murder 2\n",
            "Chillar Party\n",
            "Zindagi Na Milegi Dobara\n",
            "Dear Friend Hitler\n",
            "I Am Kalam\n",
            "Bin Bulaye Baraati\n",
            "Kucch Luv Jaisaa\n",
            "Singham\n",
            "Khap (film)\n",
            "Bubble Gum (film)\n",
            "Shabri\n",
            "Phhir\n",
            "Aarakshan\n",
            "Chatur Singh Two Star\n",
            "Sahi Dhandhe Galat Bande\n",
            "Bodyguard (2011 Hindi film)\n",
            "Yeh Dooriyan\n",
            "Not a Love Story (2011 film)\n",
            "Hum Tum Shabana\n",
            "Mummy Punjabi\n",
            "Mere Brother Ki Dulhan\n",
            "Mausam (2011 film)\n",
            "U R My Jaan\n",
            "Force (2011 film)\n",
            "Saheb Biwi Aur Gangster\n",
            "Tere Mere Phere\n",
            "Breakaway (2011 film)\n",
            "Chargesheet (film)\n",
            "Love Breakups Zindagi\n",
            "Mujhse Fraaandship Karoge\n",
            "Aazaan\n",
            "Ra.One\n",
            "Rockstar (2011 film)\n",
            "Miley Naa Miley Hum\n",
            "Tell Me O Kkhuda\n",
            "Damadamm!\n",
            "Ladies vs Ricky Bahl\n",
            "Desi Boyz\n",
            "Game (2011 film)\n",
            "No One Killed Jessica\n",
            "Rascals (2011 film)\n",
            "The Dirty Picture\n",
            "Pyaar Impossible!\n",
            "Chance Pe Dance\n",
            "My Friend Pinto\n",
            "Veer (2010 film)\n",
            "Striker (2010 film)\n",
            "Rann (film)\n",
            "Ishqiya\n",
            "Road to Sangam\n",
            "Jo Hum Chahein\n",
            "Click (2010 film)\n",
            "Toh Baat Pakki!\n",
            "My Name Is Khan\n",
            "Teen Patti (film)\n",
            "Karthik Calling Karthik\n",
            "Don 2\n",
            "Rokkk\n",
            "Aakhari Decision\n",
            "Right Yaaa Wrong\n",
            "Sukhmani: Hope for Life\n",
            "Thanks Maa\n",
            "Na Ghar Ke Na Ghaat Ke\n",
            "Trump Card (film)\n",
            "Shaapit\n",
            "Hum Tum Aur Ghost\n",
            "Well Done Abba\n",
            "Tum Milo Toh Sahi\n",
            "Jaane Kahan Se Aayi Hai\n",
            "Prem Kaa Game\n",
            "Sadiyaan\n",
            "The Japanese Wife\n",
            "Paathshaala\n",
            "Phoonk 2\n",
            "Lahore (film)\n",
            "Apartment (film)\n",
            "City of Gold (2010 film)\n",
            "Chase (2010 film)\n",
            "Housefull (2010 film)\n",
            "Mittal v/s Mittal\n",
            "It's a Wonderful Afterlife\n",
            "Prince (2010 film)\n",
            "Raavan\n",
            "Bumm Bumm Bole\n",
            "Kushti (film)\n",
            "Kites (film)\n",
            "Love Sex Aur Dhokha\n",
            "Milenge Milenge\n",
            "Ek Second... Jo Zindagi Badal De?\n",
            "Mr. Singh Mrs. Mehta\n",
            "Lamhaa\n",
            "Khatta Meetha (2010 film)\n",
            "Tere Bin Laden\n",
            "Udaan (2010 film)\n",
            "Once Upon a Time in Mumbaai\n",
            "Help (film)\n",
            "Peepli Live\n",
            "Lafangey Parindey\n",
            "Hello Darling\n",
            "Antardwand\n",
            "Aashayein\n",
            "Soch Lo\n",
            "Dabangg\n",
            "Khichdi: The Movie\n",
            "Red Alert: The War Within\n",
            "Life Express (2010 film)\n",
            "The Film Emotional Atyachar\n",
            "Hisss\n",
            "Crook (film)\n",
            "Do Dooni Chaar\n",
            "Aakrosh (2010 film)\n",
            "Ramayana: The Epic\n",
            "Knock Out (2010 film)\n",
            "Jhootha Hi Sahi\n",
            "Guzaarish (film)\n",
            "Allah Ke Banday\n",
            "Break Ke Baad\n",
            "Khuda Kasam\n",
            "Phas Gaye Re Obama\n",
            "Malik Ek\n",
            "A Flat (film)\n",
            "No Problem (2010 film)\n",
            "Band Baaja Baaraat\n",
            "Kaalo\n",
            "Mirch\n",
            "Tees Maar Khan (2010 film)\n",
            "Isi Life Mein\n",
            "Toonpur Ka Super Hero\n",
            "Tera Kya Hoga Johnny\n",
            "Ramaa: The Saviour\n",
            "I Hate Luv Storys\n",
            "Dulha Mil Gaya\n",
            "Anjaana Anjaani\n",
            "Dunno Y... Na Jaane Kyon\n",
            "Pankh\n",
            "Action Replayy\n",
            "3 Idiots\n",
            "Luck by Chance\n",
            "Love Aaj Kal\n",
            "Wanted (2009 film)\n",
            "Delhi-6\n",
            "Raaz: The Mystery Continues\n",
            "Aasma: The Sky Is the Limit\n",
            "Ajab Prem Ki Ghazab Kahani\n",
            "Chal Chala Chal\n",
            "Billu\n",
            "The Stoneman Murders\n",
            "Kisse Pyaar Karoon\n",
            "Dhoondte Reh Jaaoge\n",
            "Karma Aur Holi\n",
            "Victory (2009 film)\n",
            "Kaminey\n",
            "Jai Veeru\n",
            "Little Zizou\n",
            "Gulaal (film)\n",
            "Aloo Chaat (film)\n",
            "Barah Aana\n",
            "Firaaq\n",
            "Aa Dekhen Zara\n",
            "99 (2009 film)\n",
            "Ek: The Power of One\n",
            "Ek Se Bure Do\n",
            "Sikandar (2009 film)\n",
            "Zor Lagaa Ke...Haiya!\n",
            "Paying Guests\n",
            "New York (2009 film)\n",
            "Sankat City\n",
            "Shortkut\n",
            "Luck (2009 film)\n",
            "Life Partner\n",
            "Daddy Cool (2009 Hindi film)\n",
            "Kisaan\n",
            "Yeh Mera India\n",
            "Aagey Se Right\n",
            "Chintu Ji\n",
            "Quick Gun Murugun\n",
            "Fox (film)\n",
            "Baabarr\n",
            "Phir Kabhi\n",
            "Vaada Raha\n",
            "Dil Bole Hadippa!\n",
            "What's Your Raashee?\n",
            "Acid Factory\n",
            "All the Best: Fun Begins\n",
            "Wake Up Sid\n",
            "Main Aurr Mrs Khanna\n",
            "Blue (2009 film)\n",
            "Fruit and Nut (film)\n",
            "Aladin (film)\n",
            "London Dreams\n",
            "Jail (2009 film)\n",
            "Tum Mile\n",
            "Kurbaan (2009 film)\n",
            "De Dana Dan\n",
            "Paa (film)\n",
            "Rocket Singh: Salesman of the Year\n",
            "Raat Gayi Baat Gayi?\n",
            "Accident on Hill Road\n",
            "Chandni Chowk to China\n",
            "Dostana (2008 film)\n",
            "Race (2008 film)\n",
            "Rab Ne Bana Di Jodi\n",
            "Ghajini (2008 film)\n",
            "Singh Is Kinng\n",
            "Golmaal Returns\n",
            "Jodhaa Akbar\n",
            "Bachna Ae Haseeno\n",
            "Bhoothnath\n",
            "Sarkar Raj\n",
            "Halla Bol\n",
            "Humne Jeena Seekh Liya\n",
            "Bombay to Bangkok\n",
            "Tulsi (film)\n",
            "Sunday (2008 film)\n",
            "One Two Three\n",
            "Krazzy 4\n",
            "U Me Aur Hum\n",
            "Sirf (film)\n",
            "Tashan (film)\n",
            "Anamika (2008 film)\n",
            "Jimmy (2008 film)\n",
            "Jannat (film)\n",
            "Don Muthu Swami\n",
            "Woodstock Villa\n",
            "Mere Baap Pehle Aap\n",
            "Summer 2007\n",
            "De Taali\n",
            "Haal-e-Dil\n",
            "Thodi Life Thoda Magic\n",
            "Thoda Pyaar Thoda Magic\n",
            "Via Darjeeling\n",
            "Kismat Konnection\n",
            "Love Story 2050\n",
            "Contract (2008 film)\n",
            "Mission Istaanbul\n",
            "Money Hai Toh Honey Hai\n",
            "God Tussi Great Ho\n",
            "Mumbai Meri Jaan\n",
            "Maan Gaye Mughal-e-Azam\n",
            "Rock On!!\n",
            "C Kkompany\n",
            "Chamku\n",
            "Mukhbiir\n",
            "Tahaan\n",
            "1920 (film)\n",
            "The Last Lear\n",
            "Welcome to Sajjanpur\n",
            "Saas Bahu Aur Sensex\n",
            "Hari Puttar: A Comedy of Terrors\n",
            "Drona (2008 film)\n",
            "Hello (2008 film)\n",
            "Karzzzz\n",
            "Heroes (2008 film)\n",
            "Roadside Romeo\n",
            "Ek Vivaah... Aisa Bhi\n",
            "Deshdrohi\n",
            "Fashion (2008 film)\n",
            "Dasvidaniya\n",
            "Yuvvraaj\n",
            "Oye Lucky! Lucky Oye!\n",
            "Oh My God (2008 film)\n",
            "Sorry Bhai!\n",
            "1971 (2007 film)\n",
            "Meerabai Not Out\n",
            "Wafa: A Deadly Love Story\n",
            "Gumnaam – The Mystery\n",
            "Dil Kabaddi\n",
            "Aag (2007 film)\n",
            "Aap Kaa Surroor\n",
            "Aggar (film)\n",
            "Anwar (2007 film)\n",
            "Aaja Nachle\n",
            "Apne\n",
            "Awarapan\n",
            "Bheja Fry (film)\n",
            "Bhool Bhulaiyaa\n",
            "Bhram\n",
            "Big Brother (2007 film)\n",
            "68 Pages\n",
            "Aur Pappu Paas Ho Gaya\n",
            "Apna Asmaan\n",
            "Black Friday (2007 film)\n",
            "The Blue Umbrella (2005 film)\n",
            "Blood Brothers (2007 Indian film)\n",
            "Buddha Mar Gaya\n",
            "Cash (2007 film)\n",
            "Cheeni Kum\n",
            "Chhodon Naa Yaar\n",
            "Darling (2007 Indian film)\n",
            "Chak De! India\n",
            "Dhamaal\n",
            "Goal (2007 Hindi film)\n",
            "Dharm (film)\n",
            "Bombay to Goa (2007 film)\n",
            "Dhokha\n",
            "Dil Dosti Etc\n",
            "Dhol (film)\n",
            "Ek Chalis Ki Last Local\n",
            "Familywala\n",
            "Gandhi My Father\n",
            "Don't Stop Dreaming\n",
            "Dus Kahaniyaan\n",
            "Eklavya: The Royal Guard\n",
            "Go (2007 film)\n",
            "Gauri: The Unborn\n",
            "Heyy Babyy\n",
            "Guru (2007 film)\n",
            "Honeymoon Travels Pvt. Ltd.\n",
            "Jahan Jaaeyega Hamen Paaeyega\n",
            "Jhoom Barabar Jhoom\n",
            "Jab We Met\n",
            "Good Boy Bad Boy\n",
            "Fool & Final\n",
            "Khoya Khoya Chand\n",
            "Johnny Gaddaar\n",
            "Just Married (2007 film)\n",
            "Kya Love Story Hai\n",
            "Kudiyon Ka Hai Zamana\n",
            "Hastey Hastey\n",
            "Laaga Chunari Mein Daag\n",
            "Life in a... Metro\n",
            "Loins of Punjab Presents\n",
            "Manorama Six Feet Under\n",
            "Marigold (2007 film)\n",
            "MP3: Mera Pehla Pehla Pyaar\n",
            "Hattrick (film)\n",
            "Naqaab\n",
            "Mumbai Salsa\n",
            "The Namesake (film)\n",
            "Namastey London\n",
            "My Bollywood Bride\n",
            "Nehlle Pe Dehlla\n",
            "Nishabd\n",
            "No Smoking (2007 film)\n",
            "Om Shanti Om\n",
            "Partner (2007 film)\n",
            "Raqeeb\n",
            "Nanhe Jaisalmer\n",
            "Life Mein Kabhie Kabhiee\n",
            "Risk (2007 film)\n",
            "Shakalaka Boom Boom\n",
            "Red Swastik\n",
            "Salaam-e-Ishq: A Tribute to Love\n",
            "Saawariya\n",
            "Sarhad Paar\n",
            "Say Salaam India\n",
            "Red: The Dark Side\n",
            "Shootout at Lokhandwala\n",
            "Strangers (2007 Hindi film)\n",
            "Swami (2007 film)\n",
            "Taare Zameen Par\n",
            "Ta Ra Rum Pum\n",
            "Speed (2007 film)\n",
            "Traffic Signal (film)\n",
            "The Train (2007 film)\n",
            "Showbiz (film)\n",
            "Sunglass (film)\n",
            "Welcome (2007 film)\n",
            "36 China Town\n",
            "Zamaanat\n",
            "Aap Ki Khatir (2006 film)\n",
            "Ahista Ahista (2006 film)\n",
            "Aksar\n",
            "Alag\n",
            "Anthony Kaun Hai?\n",
            "Apna Sapna Money Money\n",
            "Ankahee (2006 film)\n",
            "Yatra (2007 film)\n",
            "Baabul (2006 film)\n",
            "Aisa Kyon Hota Hai?\n",
            "Adharm (2006 film)\n",
            "Being Cyrus\n",
            "Banaras (2006 film)\n",
            "Bas Ek Pal\n",
            "Bhagam Bhag\n",
            "Chingaari\n",
            "Bhoot Unkle\n",
            "Chand Ke Paar Chalo (film)\n",
            "Aryan: Unbreakable\n",
            "Chup Chup Ke\n",
            "Corporate (2006 film)\n",
            "Darna Zaroori Hai\n",
            "Deadline: Sirf 24 Ghante\n",
            "Dil Diya Hai\n",
            "Darwaaza Bandh Rakho\n",
            "Eight: The Power of Shani\n",
            "Dhoom 2\n",
            "Dor (film)\n",
            "Don (2006 Hindi film)\n",
            "Family (2006 film)\n",
            "Fanaa (2006 film)\n",
            "Gangster (2006 film)\n",
            "Golmaal: Fun Unlimited\n",
            "Devaki (2005 film)\n",
            "Fight Club – Members Only\n",
            "Dharti Kahe Pukar Ke (2006 film)\n",
            "Humko Deewana Kar Gaye\n",
            "Humko Tumse Pyaar Hai\n",
            "I See You (2006 film)\n",
            "Jaane Hoga Kya\n",
            "Jaan-E-Mann\n",
            "Jawani Diwani: A Youthful Joyride\n",
            "Holiday (2006 film)\n",
            "Iqraar by Chance\n",
            "Khosla Ka Ghosla\n",
            "Kabhi Alvida Naa Kehna\n",
            "Love Ke Chakkar Mein\n",
            "Lage Raho Munna Bhai\n",
            "Kabul Express\n",
            "Jigyaasa\n",
            "Krrish\n",
            "Malamaal Weekly\n",
            "Omkara (2006 film)\n",
            "Pyaar Ke Side Effects\n",
            "Naksha\n",
            "Phir Hera Pheri\n",
            "Pyare Mohan\n",
            "Mere Jeevan Saathi (2006 film)\n",
            "Prateeksha\n",
            "Sacred Evil – A True Story\n",
            "Rang De Basanti\n",
            "Shaadi Karke Phas Gaya Yaar\n",
            "Sandwich (2006 film)\n",
            "Shaadi Se Pehle\n",
            "Saawan... The Love Season\n",
            "Shiva (2006 film)\n",
            "Souten: The Other Woman\n",
            "Shikhar (film)\n",
            "Children of Heaven\n",
            "Tathastu\n",
            "The Killer (2006 film)\n",
            "Umrao Jaan (2006 film)\n",
            "Taxi No. 9211\n",
            "Teesri Aankh: The Hidden Camera\n",
            "Vivah\n",
            "Utthaan\n",
            "Waris Shah: Ishq Daa Waaris\n",
            "Woh Lamhe...\n",
            "Yun Hota Toh Kya Hota\n",
            "Umar (film)\n",
            "Zindaggi Rocks\n",
            "Tom Dick and Harry (2006 film)\n",
            "Aashiq Banaya Aapne\n",
            "Anjaane (2005 film)\n",
            "Apaharan\n",
            "Bachke Rehna Re Baba\n",
            "7½ Phere\n",
            "Barsaat (2005 film)\n",
            "Bewafaa (2005 film)\n",
            "Black (2005 film)\n",
            "Zinda (film)\n",
            "Bluffmaster!\n",
            "99.9 FM (film)\n",
            "Bhola in Bollywood\n",
            "Bhagmati (2005 film)\n",
            "Blackmail (2005 film)\n",
            "Bunty Aur Babli\n",
            "Chaahat – Ek Nasha\n",
            "Chetna: The Excitement\n",
            "Chand Sa Roshan Chehra\n",
            "Chocolate (2005 film)\n",
            "D (film)\n",
            "Deewane Huye Paagal\n",
            "Bullet: Ek Dhamaka\n",
            "Chehraa\n",
            "Dil Jo Bhi Kahey...\n",
            "Dosti: Friends Forever\n",
            "Classic – Dance of Love\n",
            "Dus\n",
            "Elaan (2005 film)\n",
            "Fareb (2005 film)\n",
            "Ek Ajnabee\n",
            "Fun – Can Be Dangerous Sometimes\n",
            "Ek Khiladi Ek Haseena (film)\n",
            "Double Cross (2005 film)\n",
            "Dreams (2006 film)\n",
            "Home Delivery\n",
            "Garam Masala (2005 film)\n",
            "Iqbal (film)\n",
            "Jai Chiranjeeva\n",
            "Hazaaron Khwaishein Aisi\n",
            "Insan\n",
            "Jo Bole So Nihaal (film)\n",
            "Karam (film)\n",
            "Kaal (2005 film)\n",
            "Kalyug (2005 film)\n",
            "Kasak (2005 film)\n",
            "Hanuman (2005 film)\n",
            "James (2005 film)\n",
            "Kisna: The Warrior Poet\n",
            "Koi Aap Sa\n",
            "Khamoshh... Khauff Ki Raat\n",
            "Jurm (2005 film)\n",
            "Kuchh Meetha Ho Jaye\n",
            "Kyaa Kool Hai Hum\n",
            "Lucky: No Time for Love\n",
            "Main Aisa Hi Hoon\n",
            "Kyon Ki\n",
            "Main Meri Patni Aur Woh\n",
            "Maine Gandhi Ko Nahin Mara\n",
            "Maine Pyaar Kyun Kiya?\n",
            "Mangal Pandey: The Rising\n",
            "Koi Mere Dil Mein Hai\n",
            "Mr Prime Minister\n",
            "My Brother…Nikhil\n",
            "My Wife's Murder\n",
            "Naina (2005 film)\n",
            "Neal 'n' Nikki\n",
            "No Entry\n",
            "Padmashree Laloo Prasad Yadav\n",
            "Page 3 (film)\n",
            "Morning Raga\n",
            "Parineeta (2005 film)\n",
            "Pehchaan: The Face of Truth\n",
            "Paheli\n",
            "Rog\n",
            "Pyaar Mein Twist\n",
            "Salaam Namaste\n",
            "Revati (film)\n",
            "Sarkar (2005 film)\n",
            "Sehar\n",
            "Shabd (film)\n",
            "Shabnam Mausi\n",
            "Sheesha (2005 film)\n",
            "Ramji Londonwaley\n",
            "Silsiilay\n",
            "Socha Na Tha\n",
            "Taj Mahal: An Eternal Love Story\n",
            "Tango Charlie\n",
            "The Film\n",
            "Vaada (film)\n",
            "Vaah! Life Ho Toh Aisi!\n",
            "Ssukh\n",
            "Shaadi No. 1\n",
            "Viruddh... Family Comes First\n",
            "Waqt: The Race Against Time\n",
            "Vidyaarthi\n",
            "Yakeen (2005 film)\n",
            "Zeher\n",
            "Veer-Zaara\n",
            "Main Hoon Na\n",
            "Zameer: The Fire Within\n",
            "Mujhse Shaadi Karogi\n",
            "Dhoom\n",
            "Khakee\n",
            "Hum Tum\n",
            "Hulchul (2004 film)\n",
            "Murder (2004 film)\n",
            "Yuva\n",
            "Aitraaz\n",
            "Aetbaar\n",
            "Ab Tumhare Hawale Watan Saathiyo\n",
            "Aan: Men at Work\n",
            "Bardaasht\n",
            "Chameli (film)\n",
            "Agnipankh\n",
            "Asambhav\n",
            "Charas (2004 film)\n",
            "Deewaar (2004 film)\n",
            "Dev (2004 film)\n",
            "Dil Maange More\n",
            "Dil Ne Jise Apna Kahaa\n",
            "Dobara\n",
            "Aabra Ka Daabra\n",
            "Dil Bechara Pyaar Ka Maara\n",
            "Gayab\n",
            "Fida\n",
            "Garv: Pride & Honour\n",
            "Ek Se Badhkar Ek (2004 film)\n",
            "Ek Hasina Thi (film)\n",
            "Girlfriend (2004 film)\n",
            "Hatya (2004 film)\n",
            "Hava Aney Dey\n",
            "Hawas (2004 film)\n",
            "Hyderabad Blues 2\n",
            "Julie (2004 film)\n",
            "Kaun Hai Jo Sapno Mein Aaya\n",
            "Inteqam: The Perfect Game\n",
            "Kis Kis Ki Kismat\n",
            "Insaaf: The Justice\n",
            "I Proud to Be an Indian\n",
            "Khamosh Pani\n",
            "Kismat (2004 film)\n",
            "Lakeer – Forbidden Lines\n",
            "Krishna Cottage\n",
            "Kyun! Ho Gaya Na...\n",
            "Madhoshi\n",
            "Lakshya (film)\n",
            "Ishq Hai Tumse\n",
            "Maqbool\n",
            "Masti (2004 film)\n",
            "Meenaxi: A Tale of Three Cities\n",
            "Musafir (2004 film)\n",
            "Mughal-e-Azam\n",
            "Muskaan\n",
            "Meri Biwi Ka Jawaab Nahin\n",
            "Naach (2004 film)\n",
            "Netaji Subhas Chandra Bose: The Forgotten Hero\n",
            "Paap\n",
            "Phir Milenge\n",
            "Plan (film)\n",
            "Police Force: An Inside Story\n",
            "Paisa Vasool\n",
            "Popcorn Khao! Mast Ho Jao\n",
            "Rakht\n",
            "Raincoat (film)\n",
            "Rudraksh (film)\n",
            "Shaadi Ka Laddoo\n",
            "Run (2004 film)\n",
            "Rok Sako To Rok Lo\n",
            "Suno Sasurjee\n",
            "Swades\n",
            "Taarzan: The Wonder Car\n",
            "Nothing but Life\n",
            "Shart: The Challenge\n",
            "Tumsa Nahin Dekha: A Love Story\n",
            "Vaastu Shastra (film)\n",
            "Yeh Lamhe Judaai Ke\n",
            "Sheen (film)\n",
            "Dude Where's the Party?\n",
            "Thoda Tum Badlo Thoda Hum\n",
            "Koi... Mil Gaya\n",
            "Kal Ho Naa Ho\n",
            "Shukriya: Till Death Do Us Apart\n",
            "Chalte Chalte (2003 film)\n",
            "The Hero: Love Story of a Spy\n",
            "Baghban (2003 film)\n",
            "Main Prem Ki Diwani Hoon\n",
            "LOC Kargil\n",
            "Border (1997 film)\n",
            "Munna Bhai M.B.B.S.\n",
            "Qayamat: City Under Threat\n",
            "88 Antop Hill\n",
            "3 Deewarein\n",
            "Aanch\n",
            "Aapko Pehle Bhi Kahin Dekha Hai\n",
            "Bhoot (film)\n",
            "Boom (film)\n",
            "Aaj Ka Andha Kanoon\n",
            "Andaaz\n",
            "Andaaz\n",
            "Armaan (2003 film)\n",
            "Chori Chori (2003 film)\n",
            "Calcutta Mail\n",
            "Baaz: A Bird in Danger\n",
            "Basti (film)\n",
            "Magic Magic 3D\n",
            "Dil Ka Rishta\n",
            "Darna Mana Hai\n",
            "Dhoop\n",
            "Dhund (2003 film)\n",
            "Chura Liyaa Hai Tumne\n",
            "The Bypass\n",
            "Dum (2003 Hindi film)\n",
            "Dil Pardesi Ho Gayaa\n",
            "Ek Alag Mausam\n",
            "Footpath (2003 film)\n",
            "Escape from Taliban\n",
            "Ek Din 24 Ghante\n",
            "Gangaajal\n",
            "Hawa (film)\n",
            "Haasil\n",
            "Ek Aur Ek Gyarah\n",
            "Hungama (2003 film)\n",
            "Green Card Fever\n",
            "Flavors (film)\n",
            "Indian Babu\n",
            "Fun2shh... Dudes in the 10th Century\n",
            "Inteha (2003 film)\n",
            "Jaal: The Trap\n",
            "Ishq Vishk\n",
            "Hawayein\n",
            "Jajantaram Mamantaram\n",
            "Jism (2003 film)\n",
            "Jhankaar Beats\n",
            "Kagaar: Life on the Edge\n",
            "Kash Aap Hamare Hote\n",
            "Khel – No Ordinary Game\n",
            "Janasheen\n",
            "Kaise Kahoon Ke... Pyaar Hai\n",
            "Khushi (2003 Hindi film)\n",
            "Khwahish\n",
            "Kucch To Hai\n",
            "Kuch Naa Kaho\n",
            "Main Madhuri Dixit Banna Chahti Hoon\n",
            "Joggers' Park (film)\n",
            "Market (2003 film)\n",
            "Om (2003 film)\n",
            "Out of Control (2003 film)\n",
            "Mumbai Matinee\n",
            "Matrubhoomi\n",
            "Parwana (2003 film)\n",
            "Pinjar (film)\n",
            "Mumbai Se Aaya Mera Dost\n",
            "Saaya (2003 film)\n",
            "Samay: When Time Strikes\n",
            "Nayee Padosan\n",
            "Satta (film)\n",
            "Sssshhh...\n",
            "Praan Jaye Par Shaan Na Jaye\n",
            "Raghu Romeo\n",
            "Stumped (film)\n",
            "Rules: Pyaar Ka Superhit Formula\n",
            "Right Here Right Now (film)\n",
            "Raja Bhaiya (film)\n",
            "Tere Naam\n",
            "Tujhe Meri Kasam\n",
            "Talaash: The Hunt Begins...\n",
            "Tehzeeb (2003 film)\n",
            "The Pink Mirror\n",
            "Yeh Dil\n",
            "Xcuse Me\n",
            "Raaz (2002 film)\n",
            "Zameen (2003 film)\n",
            "Waisa Bhi Hota Hai Part II\n",
            "Devdas (2002 Hindi film)\n",
            "Kaante\n",
            "Hum Tumhare Hain Sanam\n",
            "Aankhen (2002 film)\n",
            "Saathiya (film)\n",
            "Company (film)\n",
            "Awara Paagal Deewana\n"
          ]
        }
      ]
    },
    {
      "cell_type": "code",
      "source": [
        "100-marks_series#broadcasting"
      ],
      "metadata": {
        "colab": {
          "base_uri": "https://localhost:8080/",
          "height": 241
        },
        "id": "Irqu5FpzM4uw",
        "outputId": "da77eeec-9769-4f20-8175-7cce80ec8e98"
      },
      "execution_count": 117,
      "outputs": [
        {
          "output_type": "execute_result",
          "data": {
            "text/plain": [
              "maths      10\n",
              "english     0\n",
              "science    30\n",
              "hindi      10\n",
              "social     10\n",
              "Name: FIZA ke marks, dtype: int64"
            ],
            "text/html": [
              "<div>\n",
              "<style scoped>\n",
              "    .dataframe tbody tr th:only-of-type {\n",
              "        vertical-align: middle;\n",
              "    }\n",
              "\n",
              "    .dataframe tbody tr th {\n",
              "        vertical-align: top;\n",
              "    }\n",
              "\n",
              "    .dataframe thead th {\n",
              "        text-align: right;\n",
              "    }\n",
              "</style>\n",
              "<table border=\"1\" class=\"dataframe\">\n",
              "  <thead>\n",
              "    <tr style=\"text-align: right;\">\n",
              "      <th></th>\n",
              "      <th>FIZA ke marks</th>\n",
              "    </tr>\n",
              "  </thead>\n",
              "  <tbody>\n",
              "    <tr>\n",
              "      <th>maths</th>\n",
              "      <td>10</td>\n",
              "    </tr>\n",
              "    <tr>\n",
              "      <th>english</th>\n",
              "      <td>0</td>\n",
              "    </tr>\n",
              "    <tr>\n",
              "      <th>science</th>\n",
              "      <td>30</td>\n",
              "    </tr>\n",
              "    <tr>\n",
              "      <th>hindi</th>\n",
              "      <td>10</td>\n",
              "    </tr>\n",
              "    <tr>\n",
              "      <th>social</th>\n",
              "      <td>10</td>\n",
              "    </tr>\n",
              "  </tbody>\n",
              "</table>\n",
              "</div><br><label><b>dtype:</b> int64</label>"
            ]
          },
          "metadata": {},
          "execution_count": 117
        }
      ]
    },
    {
      "cell_type": "code",
      "source": [
        "#relationl operator\n",
        "vk>=89"
      ],
      "metadata": {
        "colab": {
          "base_uri": "https://localhost:8080/",
          "height": 489
        },
        "id": "Qa80EJ8sM1ox",
        "outputId": "f0f2fe22-7ffe-40cc-b747-5b8f209a8bde"
      },
      "execution_count": 118,
      "outputs": [
        {
          "output_type": "execute_result",
          "data": {
            "text/plain": [
              "match_no\n",
              "1      False\n",
              "2      False\n",
              "3      False\n",
              "4      False\n",
              "5      False\n",
              "       ...  \n",
              "211    False\n",
              "212    False\n",
              "213    False\n",
              "214    False\n",
              "215    False\n",
              "Name: runs, Length: 215, dtype: bool"
            ],
            "text/html": [
              "<div>\n",
              "<style scoped>\n",
              "    .dataframe tbody tr th:only-of-type {\n",
              "        vertical-align: middle;\n",
              "    }\n",
              "\n",
              "    .dataframe tbody tr th {\n",
              "        vertical-align: top;\n",
              "    }\n",
              "\n",
              "    .dataframe thead th {\n",
              "        text-align: right;\n",
              "    }\n",
              "</style>\n",
              "<table border=\"1\" class=\"dataframe\">\n",
              "  <thead>\n",
              "    <tr style=\"text-align: right;\">\n",
              "      <th></th>\n",
              "      <th>runs</th>\n",
              "    </tr>\n",
              "    <tr>\n",
              "      <th>match_no</th>\n",
              "      <th></th>\n",
              "    </tr>\n",
              "  </thead>\n",
              "  <tbody>\n",
              "    <tr>\n",
              "      <th>1</th>\n",
              "      <td>False</td>\n",
              "    </tr>\n",
              "    <tr>\n",
              "      <th>2</th>\n",
              "      <td>False</td>\n",
              "    </tr>\n",
              "    <tr>\n",
              "      <th>3</th>\n",
              "      <td>False</td>\n",
              "    </tr>\n",
              "    <tr>\n",
              "      <th>4</th>\n",
              "      <td>False</td>\n",
              "    </tr>\n",
              "    <tr>\n",
              "      <th>5</th>\n",
              "      <td>False</td>\n",
              "    </tr>\n",
              "    <tr>\n",
              "      <th>...</th>\n",
              "      <td>...</td>\n",
              "    </tr>\n",
              "    <tr>\n",
              "      <th>211</th>\n",
              "      <td>False</td>\n",
              "    </tr>\n",
              "    <tr>\n",
              "      <th>212</th>\n",
              "      <td>False</td>\n",
              "    </tr>\n",
              "    <tr>\n",
              "      <th>213</th>\n",
              "      <td>False</td>\n",
              "    </tr>\n",
              "    <tr>\n",
              "      <th>214</th>\n",
              "      <td>False</td>\n",
              "    </tr>\n",
              "    <tr>\n",
              "      <th>215</th>\n",
              "      <td>False</td>\n",
              "    </tr>\n",
              "  </tbody>\n",
              "</table>\n",
              "<p>215 rows × 1 columns</p>\n",
              "</div><br><label><b>dtype:</b> bool</label>"
            ]
          },
          "metadata": {},
          "execution_count": 118
        }
      ]
    },
    {
      "cell_type": "markdown",
      "source": [
        "boolean indexing on series"
      ],
      "metadata": {
        "id": "uV3ZbLcBNNx4"
      }
    },
    {
      "cell_type": "code",
      "source": [
        "vk[vk>=50].size"
      ],
      "metadata": {
        "colab": {
          "base_uri": "https://localhost:8080/"
        },
        "id": "lmn646qAM1sx",
        "outputId": "70817cde-1920-4141-ece7-2e79c58ad00a"
      },
      "execution_count": 120,
      "outputs": [
        {
          "output_type": "execute_result",
          "data": {
            "text/plain": [
              "50"
            ]
          },
          "metadata": {},
          "execution_count": 120
        }
      ]
    },
    {
      "cell_type": "code",
      "source": [
        "vk[vk==0]"
      ],
      "metadata": {
        "colab": {
          "base_uri": "https://localhost:8080/",
          "height": 397
        },
        "id": "fook18boNc51",
        "outputId": "9c73edf4-23fd-40fb-bb06-f00f3e18735c"
      },
      "execution_count": 122,
      "outputs": [
        {
          "output_type": "execute_result",
          "data": {
            "text/plain": [
              "match_no\n",
              "8      0\n",
              "87     0\n",
              "91     0\n",
              "93     0\n",
              "130    0\n",
              "135    0\n",
              "206    0\n",
              "207    0\n",
              "211    0\n",
              "Name: runs, dtype: int64"
            ],
            "text/html": [
              "<div>\n",
              "<style scoped>\n",
              "    .dataframe tbody tr th:only-of-type {\n",
              "        vertical-align: middle;\n",
              "    }\n",
              "\n",
              "    .dataframe tbody tr th {\n",
              "        vertical-align: top;\n",
              "    }\n",
              "\n",
              "    .dataframe thead th {\n",
              "        text-align: right;\n",
              "    }\n",
              "</style>\n",
              "<table border=\"1\" class=\"dataframe\">\n",
              "  <thead>\n",
              "    <tr style=\"text-align: right;\">\n",
              "      <th></th>\n",
              "      <th>runs</th>\n",
              "    </tr>\n",
              "    <tr>\n",
              "      <th>match_no</th>\n",
              "      <th></th>\n",
              "    </tr>\n",
              "  </thead>\n",
              "  <tbody>\n",
              "    <tr>\n",
              "      <th>8</th>\n",
              "      <td>0</td>\n",
              "    </tr>\n",
              "    <tr>\n",
              "      <th>87</th>\n",
              "      <td>0</td>\n",
              "    </tr>\n",
              "    <tr>\n",
              "      <th>91</th>\n",
              "      <td>0</td>\n",
              "    </tr>\n",
              "    <tr>\n",
              "      <th>93</th>\n",
              "      <td>0</td>\n",
              "    </tr>\n",
              "    <tr>\n",
              "      <th>130</th>\n",
              "      <td>0</td>\n",
              "    </tr>\n",
              "    <tr>\n",
              "      <th>135</th>\n",
              "      <td>0</td>\n",
              "    </tr>\n",
              "    <tr>\n",
              "      <th>206</th>\n",
              "      <td>0</td>\n",
              "    </tr>\n",
              "    <tr>\n",
              "      <th>207</th>\n",
              "      <td>0</td>\n",
              "    </tr>\n",
              "    <tr>\n",
              "      <th>211</th>\n",
              "      <td>0</td>\n",
              "    </tr>\n",
              "  </tbody>\n",
              "</table>\n",
              "</div><br><label><b>dtype:</b> int64</label>"
            ]
          },
          "metadata": {},
          "execution_count": 122
        }
      ]
    },
    {
      "cell_type": "code",
      "source": [
        "subs[subs>200].size"
      ],
      "metadata": {
        "colab": {
          "base_uri": "https://localhost:8080/"
        },
        "id": "MeZf_Y7qNc_U",
        "outputId": "2a3b71d1-c8d6-4535-9c2e-e1a8198e871a"
      },
      "execution_count": 123,
      "outputs": [
        {
          "output_type": "execute_result",
          "data": {
            "text/plain": [
              "365"
            ]
          },
          "metadata": {},
          "execution_count": 123
        }
      ]
    },
    {
      "cell_type": "code",
      "source": [
        "num_movies=boll.value_counts()\n",
        "num_movies>20"
      ],
      "metadata": {
        "colab": {
          "base_uri": "https://localhost:8080/",
          "height": 489
        },
        "id": "Xv9Xd89RNdEQ",
        "outputId": "913871f7-ef7b-4e49-cb76-112d295e2eb3"
      },
      "execution_count": 125,
      "outputs": [
        {
          "output_type": "execute_result",
          "data": {
            "text/plain": [
              "lead\n",
              "Akshay Kumar          True\n",
              "Amitabh Bachchan      True\n",
              "Ajay Devgn            True\n",
              "Salman Khan           True\n",
              "Sanjay Dutt           True\n",
              "                     ...  \n",
              "Seema Azmi           False\n",
              "Akanksha Puri        False\n",
              "Charanpreet Insan    False\n",
              "Jaideep Ahlawat      False\n",
              "Monali Thakur        False\n",
              "Name: count, Length: 566, dtype: bool"
            ],
            "text/html": [
              "<div>\n",
              "<style scoped>\n",
              "    .dataframe tbody tr th:only-of-type {\n",
              "        vertical-align: middle;\n",
              "    }\n",
              "\n",
              "    .dataframe tbody tr th {\n",
              "        vertical-align: top;\n",
              "    }\n",
              "\n",
              "    .dataframe thead th {\n",
              "        text-align: right;\n",
              "    }\n",
              "</style>\n",
              "<table border=\"1\" class=\"dataframe\">\n",
              "  <thead>\n",
              "    <tr style=\"text-align: right;\">\n",
              "      <th></th>\n",
              "      <th>count</th>\n",
              "    </tr>\n",
              "    <tr>\n",
              "      <th>lead</th>\n",
              "      <th></th>\n",
              "    </tr>\n",
              "  </thead>\n",
              "  <tbody>\n",
              "    <tr>\n",
              "      <th>Akshay Kumar</th>\n",
              "      <td>True</td>\n",
              "    </tr>\n",
              "    <tr>\n",
              "      <th>Amitabh Bachchan</th>\n",
              "      <td>True</td>\n",
              "    </tr>\n",
              "    <tr>\n",
              "      <th>Ajay Devgn</th>\n",
              "      <td>True</td>\n",
              "    </tr>\n",
              "    <tr>\n",
              "      <th>Salman Khan</th>\n",
              "      <td>True</td>\n",
              "    </tr>\n",
              "    <tr>\n",
              "      <th>Sanjay Dutt</th>\n",
              "      <td>True</td>\n",
              "    </tr>\n",
              "    <tr>\n",
              "      <th>...</th>\n",
              "      <td>...</td>\n",
              "    </tr>\n",
              "    <tr>\n",
              "      <th>Seema Azmi</th>\n",
              "      <td>False</td>\n",
              "    </tr>\n",
              "    <tr>\n",
              "      <th>Akanksha Puri</th>\n",
              "      <td>False</td>\n",
              "    </tr>\n",
              "    <tr>\n",
              "      <th>Charanpreet Insan</th>\n",
              "      <td>False</td>\n",
              "    </tr>\n",
              "    <tr>\n",
              "      <th>Jaideep Ahlawat</th>\n",
              "      <td>False</td>\n",
              "    </tr>\n",
              "    <tr>\n",
              "      <th>Monali Thakur</th>\n",
              "      <td>False</td>\n",
              "    </tr>\n",
              "  </tbody>\n",
              "</table>\n",
              "<p>566 rows × 1 columns</p>\n",
              "</div><br><label><b>dtype:</b> bool</label>"
            ]
          },
          "metadata": {},
          "execution_count": 125
        }
      ]
    },
    {
      "cell_type": "markdown",
      "source": [
        "plotting graph on series"
      ],
      "metadata": {
        "id": "T81D3FoJOP3x"
      }
    },
    {
      "cell_type": "code",
      "source": [
        "subs.plot()"
      ],
      "metadata": {
        "colab": {
          "base_uri": "https://localhost:8080/",
          "height": 448
        },
        "id": "IsxXLJRBM1wT",
        "outputId": "3a52a40b-8bf9-4220-8918-173b9e339be6"
      },
      "execution_count": 127,
      "outputs": [
        {
          "output_type": "execute_result",
          "data": {
            "text/plain": [
              "<Axes: >"
            ]
          },
          "metadata": {},
          "execution_count": 127
        },
        {
          "output_type": "display_data",
          "data": {
            "text/plain": [
              "<Figure size 640x480 with 1 Axes>"
            ],
            "image/png": "[encoded data removed]"
          },
          "metadata": {}
        }
      ]
    },
    {
      "cell_type": "code",
      "source": [
        "boll.value_counts().head(20).plot(kind='pie')"
      ],
      "metadata": {
        "colab": {
          "base_uri": "https://localhost:8080/",
          "height": 424
        },
        "id": "Pw7clP5uOKQf",
        "outputId": "d730de12-8f46-482f-9c97-ad0679cc0659"
      },
      "execution_count": 129,
      "outputs": [
        {
          "output_type": "execute_result",
          "data": {
            "text/plain": [
              "<Axes: ylabel='count'>"
            ]
          },
          "metadata": {},
          "execution_count": 129
        },
        {
          "output_type": "display_data",
          "data": {
            "text/plain": [
              "<Figure size 640x480 with 1 Axes>"
            ],
            "image/png": "[encoded data removed]"
          },
          "metadata": {}
        }
      ]
    },
    {
      "cell_type": "code",
      "source": [],
      "metadata": {
        "id": "ihYGKigZOzjv"
      },
      "execution_count": null,
      "outputs": []
    },
    {
      "cell_type": "code",
      "source": [],
      "metadata": {
        "id": "g4inZBubOzo8"
      },
      "execution_count": null,
      "outputs": []
    },
    {
      "cell_type": "code",
      "source": [],
      "metadata": {
        "id": "anCo2MFXOKWZ"
      },
      "execution_count": null,
      "outputs": []
    }
  ]
}